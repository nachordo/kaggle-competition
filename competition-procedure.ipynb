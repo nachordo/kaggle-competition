{
 "cells": [
  {
   "cell_type": "markdown",
   "metadata": {},
   "source": [
    "# Begining exploration of the data"
   ]
  },
  {
   "cell_type": "code",
   "execution_count": 1,
   "metadata": {},
   "outputs": [],
   "source": [
    "import numpy as np\n",
    "import pandas as pd\n",
    "import matplotlib.pyplot as plt\n",
    "import seaborn as sns\n",
    "\n",
    "from cleaning.clean_func import *\n",
    "from pipe.fitting_models import *\n",
    "\n",
    "from sklearn import preprocessing"
   ]
  },
  {
   "cell_type": "markdown",
   "metadata": {},
   "source": [
    "### Data\n",
    "In this section you will find data needed to train your model and a detailed description of it.\n",
    "\n",
    "### Files\n",
    "train.csv: training dataset predict.csv: dataset to predict price for sample_submission.csv: sample submission\n",
    "\n",
    "### Features\n",
    "- id: only for test & sample submission files, id for prediction sample identification\n",
    "- price: price in USD\n",
    "- carat: weight of the diamond\n",
    "- cut: quality of the cut (Fair, Good, Very Good, Premium, Ideal)\n",
    "- color: diamond colour, from J (worst) to D (best)\n",
    "- clarity: a measurement of how clear the diamond is (I1 (worst), SI2, SI1, VS2, VS1, VVS2, VVS1, IF (best))\n",
    "- x: length in mm\n",
    "- y: width in mm\n",
    "- z: depth in mm\n",
    "- depth: total depth percentage = z / mean(x, y) = 2 * z / (x + y) (43--79)\n",
    "- table: width of top of diamond relative to widest point (43--95)"
   ]
  },
  {
   "cell_type": "code",
   "execution_count": 2,
   "metadata": {},
   "outputs": [
    {
     "data": {
      "text/html": [
       "<div>\n",
       "<style scoped>\n",
       "    .dataframe tbody tr th:only-of-type {\n",
       "        vertical-align: middle;\n",
       "    }\n",
       "\n",
       "    .dataframe tbody tr th {\n",
       "        vertical-align: top;\n",
       "    }\n",
       "\n",
       "    .dataframe thead th {\n",
       "        text-align: right;\n",
       "    }\n",
       "</style>\n",
       "<table border=\"1\" class=\"dataframe\">\n",
       "  <thead>\n",
       "    <tr style=\"text-align: right;\">\n",
       "      <th></th>\n",
       "      <th>carat</th>\n",
       "      <th>cut</th>\n",
       "      <th>color</th>\n",
       "      <th>clarity</th>\n",
       "      <th>depth</th>\n",
       "      <th>table</th>\n",
       "      <th>x</th>\n",
       "      <th>y</th>\n",
       "      <th>z</th>\n",
       "      <th>price</th>\n",
       "    </tr>\n",
       "    <tr>\n",
       "      <th>id</th>\n",
       "      <th></th>\n",
       "      <th></th>\n",
       "      <th></th>\n",
       "      <th></th>\n",
       "      <th></th>\n",
       "      <th></th>\n",
       "      <th></th>\n",
       "      <th></th>\n",
       "      <th></th>\n",
       "      <th></th>\n",
       "    </tr>\n",
       "  </thead>\n",
       "  <tbody>\n",
       "    <tr>\n",
       "      <th>0</th>\n",
       "      <td>0.50</td>\n",
       "      <td>Ideal</td>\n",
       "      <td>D</td>\n",
       "      <td>VS2</td>\n",
       "      <td>62.3</td>\n",
       "      <td>55.0</td>\n",
       "      <td>5.11</td>\n",
       "      <td>5.07</td>\n",
       "      <td>3.17</td>\n",
       "      <td>1845</td>\n",
       "    </tr>\n",
       "    <tr>\n",
       "      <th>1</th>\n",
       "      <td>1.54</td>\n",
       "      <td>Good</td>\n",
       "      <td>I</td>\n",
       "      <td>VS1</td>\n",
       "      <td>63.6</td>\n",
       "      <td>60.0</td>\n",
       "      <td>7.30</td>\n",
       "      <td>7.33</td>\n",
       "      <td>4.65</td>\n",
       "      <td>10164</td>\n",
       "    </tr>\n",
       "    <tr>\n",
       "      <th>2</th>\n",
       "      <td>1.32</td>\n",
       "      <td>Very Good</td>\n",
       "      <td>J</td>\n",
       "      <td>SI2</td>\n",
       "      <td>61.7</td>\n",
       "      <td>60.0</td>\n",
       "      <td>6.95</td>\n",
       "      <td>7.01</td>\n",
       "      <td>4.31</td>\n",
       "      <td>5513</td>\n",
       "    </tr>\n",
       "    <tr>\n",
       "      <th>3</th>\n",
       "      <td>1.20</td>\n",
       "      <td>Ideal</td>\n",
       "      <td>I</td>\n",
       "      <td>SI1</td>\n",
       "      <td>62.1</td>\n",
       "      <td>55.0</td>\n",
       "      <td>6.83</td>\n",
       "      <td>6.79</td>\n",
       "      <td>4.23</td>\n",
       "      <td>5174</td>\n",
       "    </tr>\n",
       "    <tr>\n",
       "      <th>4</th>\n",
       "      <td>1.73</td>\n",
       "      <td>Premium</td>\n",
       "      <td>I</td>\n",
       "      <td>SI1</td>\n",
       "      <td>61.2</td>\n",
       "      <td>60.0</td>\n",
       "      <td>7.67</td>\n",
       "      <td>7.65</td>\n",
       "      <td>4.69</td>\n",
       "      <td>10957</td>\n",
       "    </tr>\n",
       "  </tbody>\n",
       "</table>\n",
       "</div>"
      ],
      "text/plain": [
       "    carat        cut color clarity  depth  table     x     y     z  price\n",
       "id                                                                       \n",
       "0    0.50      Ideal     D     VS2   62.3   55.0  5.11  5.07  3.17   1845\n",
       "1    1.54       Good     I     VS1   63.6   60.0  7.30  7.33  4.65  10164\n",
       "2    1.32  Very Good     J     SI2   61.7   60.0  6.95  7.01  4.31   5513\n",
       "3    1.20      Ideal     I     SI1   62.1   55.0  6.83  6.79  4.23   5174\n",
       "4    1.73    Premium     I     SI1   61.2   60.0  7.67  7.65  4.69  10957"
      ]
     },
     "execution_count": 2,
     "metadata": {},
     "output_type": "execute_result"
    }
   ],
   "source": [
    "diamonds = pd.read_csv(\"train.csv\",index_col=\"id\")\n",
    "diamonds.head()"
   ]
  },
  {
   "cell_type": "code",
   "execution_count": null,
   "metadata": {},
   "outputs": [],
   "source": []
  },
  {
   "cell_type": "code",
   "execution_count": null,
   "metadata": {},
   "outputs": [],
   "source": []
  },
  {
   "cell_type": "code",
   "execution_count": null,
   "metadata": {},
   "outputs": [],
   "source": []
  },
  {
   "cell_type": "code",
   "execution_count": 3,
   "metadata": {},
   "outputs": [],
   "source": [
    "from sklearn import linear_model\n",
    "from sklearn.model_selection import GridSearchCV\n",
    "from sklearn.ensemble import RandomForestRegressor\n",
    "from sklearn.linear_model import ElasticNet"
   ]
  },
  {
   "cell_type": "code",
   "execution_count": null,
   "metadata": {},
   "outputs": [],
   "source": []
  },
  {
   "cell_type": "code",
   "execution_count": null,
   "metadata": {
    "scrolled": true
   },
   "outputs": [],
   "source": []
  },
  {
   "cell_type": "code",
   "execution_count": null,
   "metadata": {},
   "outputs": [],
   "source": []
  },
  {
   "cell_type": "code",
   "execution_count": 4,
   "metadata": {},
   "outputs": [],
   "source": [
    "y=y_processing(diamonds[\"price\"])\n",
    "X_raw=cleaning_1(diamonds.drop(columns=[\"price\"]))\n",
    "scaler = preprocessing.StandardScaler().fit(X_raw.values)\n",
    "X=scaler.transform(X_raw)"
   ]
  },
  {
   "cell_type": "code",
   "execution_count": 5,
   "metadata": {},
   "outputs": [
    {
     "name": "stdout",
     "output_type": "stream",
     "text": [
      "LinearRegression\n",
      "RMSE (test) = 944.5958182654115\n",
      "Choosen one best 944.5958182654115 1000000 True\n",
      "KNN\n",
      "Fitting 5 folds for each of 18 candidates, totalling 90 fits\n"
     ]
    },
    {
     "name": "stderr",
     "output_type": "stream",
     "text": [
      "[Parallel(n_jobs=1)]: Using backend SequentialBackend with 1 concurrent workers.\n",
      "[Parallel(n_jobs=1)]: Done  90 out of  90 | elapsed: 10.9min finished\n"
     ]
    },
    {
     "name": "stdout",
     "output_type": "stream",
     "text": [
      "RMSE (test) = 643.0386593688639\n",
      "Choosen one best 643.0386593688639 944.5958182654115 True\n",
      "Forest\n",
      "Fitting 5 folds for each of 336 candidates, totalling 1680 fits\n"
     ]
    },
    {
     "name": "stderr",
     "output_type": "stream",
     "text": [
      "[Parallel(n_jobs=1)]: Using backend SequentialBackend with 1 concurrent workers.\n",
      "[Parallel(n_jobs=1)]: Done 1680 out of 1680 | elapsed: 11.9min finished\n"
     ]
    },
    {
     "name": "stdout",
     "output_type": "stream",
     "text": [
      "RMSE (test) = 693.5409387651621\n"
     ]
    },
    {
     "data": {
      "text/plain": [
       "KNeighborsRegressor(weights='distance')"
      ]
     },
     "execution_count": 5,
     "metadata": {},
     "output_type": "execute_result"
    }
   ],
   "source": [
    "sel_func,rmse_1 = best_func(X,y)\n",
    "sel_func.fit(X,y)"
   ]
  },
  {
   "cell_type": "code",
   "execution_count": 7,
   "metadata": {},
   "outputs": [
    {
     "name": "stdout",
     "output_type": "stream",
     "text": [
      "643.0386593688639\n",
      "KNeighborsRegressor(weights='distance')\n"
     ]
    }
   ],
   "source": [
    "print(rmse_1)\n",
    "print(sel_func)"
   ]
  },
  {
   "cell_type": "code",
   "execution_count": 8,
   "metadata": {},
   "outputs": [
    {
     "name": "stdout",
     "output_type": "stream",
     "text": [
      "RMSE (test) = 14.457395849648082\n"
     ]
    }
   ],
   "source": [
    "from sklearn.metrics import r2_score,mean_squared_error\n",
    "y_pred=sel_func.predict(X)\n",
    "rmse = mean_squared_error(10**y.values, 10**y_pred, squared=False)\n",
    "print(\"RMSE (test) =\",rmse)"
   ]
  },
  {
   "cell_type": "code",
   "execution_count": 9,
   "metadata": {},
   "outputs": [],
   "source": [
    "diamonds_test= pd.read_csv(\"predict.csv\",index_col=\"id\")\n",
    "Xf_raw=cleaning_1(diamonds_test)\n",
    "Xf=scaler.transform(Xf_raw.values)\n",
    "y_prediction = 10**sel_func.predict(Xf)\n",
    "diamonds_test[\"price\"]=y_prediction\n",
    "diamonds_test[\"price\"].to_csv(\"res/grid_1_pred.csv\")"
   ]
  },
  {
   "cell_type": "code",
   "execution_count": null,
   "metadata": {},
   "outputs": [],
   "source": []
  },
  {
   "cell_type": "code",
   "execution_count": 10,
   "metadata": {},
   "outputs": [
    {
     "name": "stderr",
     "output_type": "stream",
     "text": [
      "/home/ordovas/IRONHACK/mini-projects/kaggle-competition/cleaning/clean_func.py:41: SettingWithCopyWarning: \n",
      "A value is trying to be set on a copy of a slice from a DataFrame.\n",
      "Try using .loc[row_indexer,col_indexer] = value instead\n",
      "\n",
      "See the caveats in the documentation: https://pandas.pydata.org/pandas-docs/stable/user_guide/indexing.html#returning-a-view-versus-a-copy\n",
      "  diamonds[\"color\"]=diamonds[\"color\"].replace(color)\n",
      "/home/ordovas/IRONHACK/mini-projects/kaggle-competition/cleaning/clean_func.py:42: SettingWithCopyWarning: \n",
      "A value is trying to be set on a copy of a slice from a DataFrame.\n",
      "Try using .loc[row_indexer,col_indexer] = value instead\n",
      "\n",
      "See the caveats in the documentation: https://pandas.pydata.org/pandas-docs/stable/user_guide/indexing.html#returning-a-view-versus-a-copy\n",
      "  diamonds[\"cut\"]=diamonds[\"cut\"].replace(cut)\n",
      "/home/ordovas/IRONHACK/mini-projects/kaggle-competition/cleaning/clean_func.py:43: SettingWithCopyWarning: \n",
      "A value is trying to be set on a copy of a slice from a DataFrame.\n",
      "Try using .loc[row_indexer,col_indexer] = value instead\n",
      "\n",
      "See the caveats in the documentation: https://pandas.pydata.org/pandas-docs/stable/user_guide/indexing.html#returning-a-view-versus-a-copy\n",
      "  diamonds[\"clarity\"]=diamonds[\"clarity\"].replace(clarity)\n",
      "/home/ordovas/IRONHACK/mini-projects/kaggle-competition/cleaning/clean_func.py:50: SettingWithCopyWarning: \n",
      "A value is trying to be set on a copy of a slice from a DataFrame.\n",
      "Try using .loc[row_indexer,col_indexer] = value instead\n",
      "\n",
      "See the caveats in the documentation: https://pandas.pydata.org/pandas-docs/stable/user_guide/indexing.html#returning-a-view-versus-a-copy\n",
      "  diamonds[f\"{col1}*{col2}\"] = diamonds[col1]*diamonds[col2]\n"
     ]
    }
   ],
   "source": [
    "y=y_processing(diamonds[\"price\"])\n",
    "X_raw=cleaning_2(diamonds.drop(columns=[\"price\"]))\n",
    "scaler2 = preprocessing.StandardScaler().fit(X_raw.values)\n",
    "X=scaler2.transform(X_raw)"
   ]
  },
  {
   "cell_type": "code",
   "execution_count": 11,
   "metadata": {},
   "outputs": [],
   "source": [
    "#(min_samples_leaf=5, min_samples_split=5, n_estimators=50, n_jobs=-1)"
   ]
  },
  {
   "cell_type": "code",
   "execution_count": 12,
   "metadata": {},
   "outputs": [
    {
     "name": "stdout",
     "output_type": "stream",
     "text": [
      "LinearRegression\n",
      "RMSE (test) = 9879.732883464452\n",
      "Choosen one best 9879.732883464452 1000000 True\n",
      "KNN\n",
      "Fitting 5 folds for each of 18 candidates, totalling 90 fits\n"
     ]
    },
    {
     "name": "stderr",
     "output_type": "stream",
     "text": [
      "[Parallel(n_jobs=1)]: Using backend SequentialBackend with 1 concurrent workers.\n"
     ]
    },
    {
     "name": "stdout",
     "output_type": "stream",
     "text": [
      "RMSE (test) = 673.2871415887922\n",
      "Choosen one best 673.2871415887922 9879.732883464452 True\n",
      "Forest\n",
      "Fitting 5 folds for each of 336 candidates, totalling 1680 fits\n"
     ]
    },
    {
     "name": "stderr",
     "output_type": "stream",
     "text": [
      "[Parallel(n_jobs=1)]: Done  90 out of  90 | elapsed:   53.6s finished\n",
      "[Parallel(n_jobs=1)]: Using backend SequentialBackend with 1 concurrent workers.\n",
      "[Parallel(n_jobs=1)]: Done 1680 out of 1680 | elapsed:  7.2min finished\n"
     ]
    },
    {
     "name": "stdout",
     "output_type": "stream",
     "text": [
      "RMSE (test) = 553.9841866356244\n",
      "Choosen one best 553.9841866356244 673.2871415887922 True\n"
     ]
    },
    {
     "data": {
      "text/plain": [
       "RandomForestRegressor(min_samples_leaf=5, min_samples_split=5, n_jobs=-1)"
      ]
     },
     "execution_count": 12,
     "metadata": {},
     "output_type": "execute_result"
    }
   ],
   "source": [
    "sel_func2,rmse_2 = best_func(X,y)\n",
    "sel_func2.fit(X,y)\n"
   ]
  },
  {
   "cell_type": "code",
   "execution_count": 13,
   "metadata": {},
   "outputs": [
    {
     "name": "stdout",
     "output_type": "stream",
     "text": [
      "553.9841866356244\n",
      "RandomForestRegressor(min_samples_leaf=5, min_samples_split=5, n_jobs=-1)\n"
     ]
    }
   ],
   "source": [
    "print(rmse_2)\n",
    "print(sel_func2)"
   ]
  },
  {
   "cell_type": "code",
   "execution_count": 14,
   "metadata": {},
   "outputs": [
    {
     "name": "stderr",
     "output_type": "stream",
     "text": [
      "/home/ordovas/IRONHACK/mini-projects/kaggle-competition/cleaning/clean_func.py:41: SettingWithCopyWarning: \n",
      "A value is trying to be set on a copy of a slice from a DataFrame.\n",
      "Try using .loc[row_indexer,col_indexer] = value instead\n",
      "\n",
      "See the caveats in the documentation: https://pandas.pydata.org/pandas-docs/stable/user_guide/indexing.html#returning-a-view-versus-a-copy\n",
      "  diamonds[\"color\"]=diamonds[\"color\"].replace(color)\n",
      "/home/ordovas/IRONHACK/mini-projects/kaggle-competition/cleaning/clean_func.py:42: SettingWithCopyWarning: \n",
      "A value is trying to be set on a copy of a slice from a DataFrame.\n",
      "Try using .loc[row_indexer,col_indexer] = value instead\n",
      "\n",
      "See the caveats in the documentation: https://pandas.pydata.org/pandas-docs/stable/user_guide/indexing.html#returning-a-view-versus-a-copy\n",
      "  diamonds[\"cut\"]=diamonds[\"cut\"].replace(cut)\n",
      "/home/ordovas/IRONHACK/mini-projects/kaggle-competition/cleaning/clean_func.py:43: SettingWithCopyWarning: \n",
      "A value is trying to be set on a copy of a slice from a DataFrame.\n",
      "Try using .loc[row_indexer,col_indexer] = value instead\n",
      "\n",
      "See the caveats in the documentation: https://pandas.pydata.org/pandas-docs/stable/user_guide/indexing.html#returning-a-view-versus-a-copy\n",
      "  diamonds[\"clarity\"]=diamonds[\"clarity\"].replace(clarity)\n",
      "/home/ordovas/IRONHACK/mini-projects/kaggle-competition/cleaning/clean_func.py:50: SettingWithCopyWarning: \n",
      "A value is trying to be set on a copy of a slice from a DataFrame.\n",
      "Try using .loc[row_indexer,col_indexer] = value instead\n",
      "\n",
      "See the caveats in the documentation: https://pandas.pydata.org/pandas-docs/stable/user_guide/indexing.html#returning-a-view-versus-a-copy\n",
      "  diamonds[f\"{col1}*{col2}\"] = diamonds[col1]*diamonds[col2]\n"
     ]
    }
   ],
   "source": [
    "diamonds_test= pd.read_csv(\"predict.csv\",index_col=\"id\")\n",
    "Xf_raw=cleaning_2(diamonds_test)\n",
    "Xf=scaler2.transform(Xf_raw.values)\n",
    "y_prediction = 10**sel_func2.predict(Xf)\n",
    "diamonds_test[\"price\"]=y_prediction\n",
    "diamonds_test[\"price\"].to_csv(\"res/grid_2_pred.csv\")\n"
   ]
  },
  {
   "cell_type": "code",
   "execution_count": null,
   "metadata": {},
   "outputs": [],
   "source": []
  },
  {
   "cell_type": "code",
   "execution_count": 15,
   "metadata": {},
   "outputs": [],
   "source": [
    "y=y_processing(diamonds[\"price\"])\n",
    "X_raw=cleaning_3(diamonds.drop(columns=[\"price\"]))\n",
    "scaler3 = preprocessing.StandardScaler().fit(X_raw.values)\n",
    "X=scaler3.transform(X_raw)"
   ]
  },
  {
   "cell_type": "code",
   "execution_count": 16,
   "metadata": {},
   "outputs": [
    {
     "name": "stderr",
     "output_type": "stream",
     "text": [
      "[Parallel(n_jobs=1)]: Using backend SequentialBackend with 1 concurrent workers.\n"
     ]
    },
    {
     "name": "stdout",
     "output_type": "stream",
     "text": [
      "LinearRegression\n",
      "RMSE (test) = 6197.313014533509\n",
      "Choosen one best 6197.313014533509 1000000 True\n",
      "KNN\n",
      "Fitting 5 folds for each of 18 candidates, totalling 90 fits\n"
     ]
    },
    {
     "name": "stderr",
     "output_type": "stream",
     "text": [
      "[Parallel(n_jobs=1)]: Done  90 out of  90 | elapsed:  8.1min finished\n"
     ]
    },
    {
     "name": "stdout",
     "output_type": "stream",
     "text": [
      "RMSE (test) = 702.0558154303644\n",
      "Choosen one best 702.0558154303644 6197.313014533509 True\n",
      "Forest\n",
      "Fitting 5 folds for each of 336 candidates, totalling 1680 fits\n"
     ]
    },
    {
     "name": "stderr",
     "output_type": "stream",
     "text": [
      "[Parallel(n_jobs=1)]: Using backend SequentialBackend with 1 concurrent workers.\n",
      "[Parallel(n_jobs=1)]: Done 1680 out of 1680 | elapsed:  6.6min finished\n"
     ]
    },
    {
     "name": "stdout",
     "output_type": "stream",
     "text": [
      "RMSE (test) = 654.1592821259791\n",
      "Choosen one best 654.1592821259791 702.0558154303644 True\n"
     ]
    },
    {
     "data": {
      "text/plain": [
       "RandomForestRegressor(min_samples_leaf=5, min_samples_split=5, n_jobs=-1)"
      ]
     },
     "execution_count": 16,
     "metadata": {},
     "output_type": "execute_result"
    }
   ],
   "source": [
    "sel_func3,rmse_3 = best_func(X,y)\n",
    "sel_func3.fit(X,y)\n"
   ]
  },
  {
   "cell_type": "code",
   "execution_count": 17,
   "metadata": {},
   "outputs": [
    {
     "name": "stdout",
     "output_type": "stream",
     "text": [
      "654.1592821259791\n",
      "RandomForestRegressor(min_samples_leaf=5, min_samples_split=5, n_jobs=-1)\n"
     ]
    }
   ],
   "source": [
    "print(rmse_3)\n",
    "print(sel_func3)"
   ]
  },
  {
   "cell_type": "code",
   "execution_count": 18,
   "metadata": {},
   "outputs": [],
   "source": [
    "diamonds_test= pd.read_csv(\"predict.csv\",index_col=\"id\")\n",
    "Xf_raw=cleaning_3(diamonds_test)\n",
    "Xf=scaler3.transform(Xf_raw.values)\n",
    "y_prediction = 10**sel_func3.predict(Xf)\n",
    "diamonds_test[\"price\"]=y_prediction\n",
    "diamonds_test[\"price\"].to_csv(\"res/grid_3_pred.csv\")"
   ]
  },
  {
   "cell_type": "code",
   "execution_count": null,
   "metadata": {},
   "outputs": [],
   "source": []
  },
  {
   "cell_type": "code",
   "execution_count": null,
   "metadata": {},
   "outputs": [],
   "source": []
  },
  {
   "cell_type": "code",
   "execution_count": 19,
   "metadata": {},
   "outputs": [
    {
     "name": "stderr",
     "output_type": "stream",
     "text": [
      "/home/ordovas/IRONHACK/mini-projects/kaggle-competition/cleaning/clean_func.py:68: SettingWithCopyWarning: \n",
      "A value is trying to be set on a copy of a slice from a DataFrame.\n",
      "Try using .loc[row_indexer,col_indexer] = value instead\n",
      "\n",
      "See the caveats in the documentation: https://pandas.pydata.org/pandas-docs/stable/user_guide/indexing.html#returning-a-view-versus-a-copy\n",
      "  diamonds[\"color\"]=diamonds[\"color\"].replace(color)\n",
      "/home/ordovas/IRONHACK/mini-projects/kaggle-competition/cleaning/clean_func.py:69: SettingWithCopyWarning: \n",
      "A value is trying to be set on a copy of a slice from a DataFrame.\n",
      "Try using .loc[row_indexer,col_indexer] = value instead\n",
      "\n",
      "See the caveats in the documentation: https://pandas.pydata.org/pandas-docs/stable/user_guide/indexing.html#returning-a-view-versus-a-copy\n",
      "  diamonds[\"cut\"]=diamonds[\"cut\"].replace(cut)\n",
      "/home/ordovas/IRONHACK/mini-projects/kaggle-competition/cleaning/clean_func.py:70: SettingWithCopyWarning: \n",
      "A value is trying to be set on a copy of a slice from a DataFrame.\n",
      "Try using .loc[row_indexer,col_indexer] = value instead\n",
      "\n",
      "See the caveats in the documentation: https://pandas.pydata.org/pandas-docs/stable/user_guide/indexing.html#returning-a-view-versus-a-copy\n",
      "  diamonds[\"clarity\"]=diamonds[\"clarity\"].replace(clarity)\n",
      "/home/ordovas/IRONHACK/mini-projects/kaggle-competition/cleaning/clean_func.py:72: SettingWithCopyWarning: \n",
      "A value is trying to be set on a copy of a slice from a DataFrame.\n",
      "Try using .loc[row_indexer,col_indexer] = value instead\n",
      "\n",
      "See the caveats in the documentation: https://pandas.pydata.org/pandas-docs/stable/user_guide/indexing.html#returning-a-view-versus-a-copy\n",
      "  diamonds[\"all_cat\"]=diamonds[\"color\"]*diamonds[\"cut\"]*diamonds[\"clarity\"]\n"
     ]
    }
   ],
   "source": [
    "y=y_processing(diamonds[\"price\"])\n",
    "X_raw=cleaning_4(diamonds.drop(columns=[\"price\"]))\n",
    "scaler4 = preprocessing.StandardScaler().fit(X_raw.values)\n",
    "X=scaler4.transform(X_raw)"
   ]
  },
  {
   "cell_type": "code",
   "execution_count": 20,
   "metadata": {},
   "outputs": [
    {
     "name": "stderr",
     "output_type": "stream",
     "text": [
      "[Parallel(n_jobs=1)]: Using backend SequentialBackend with 1 concurrent workers.\n"
     ]
    },
    {
     "name": "stdout",
     "output_type": "stream",
     "text": [
      "LinearRegression\n",
      "RMSE (test) = 9898.808149961651\n",
      "Choosen one best 9898.808149961651 1000000 True\n",
      "KNN\n",
      "Fitting 5 folds for each of 18 candidates, totalling 90 fits\n"
     ]
    },
    {
     "name": "stderr",
     "output_type": "stream",
     "text": [
      "[Parallel(n_jobs=1)]: Done  90 out of  90 | elapsed:   36.1s finished\n",
      "[Parallel(n_jobs=1)]: Using backend SequentialBackend with 1 concurrent workers.\n"
     ]
    },
    {
     "name": "stdout",
     "output_type": "stream",
     "text": [
      "RMSE (test) = 660.4619262992576\n",
      "Choosen one best 660.4619262992576 9898.808149961651 True\n",
      "Forest\n",
      "Fitting 5 folds for each of 336 candidates, totalling 1680 fits\n"
     ]
    },
    {
     "name": "stderr",
     "output_type": "stream",
     "text": [
      "[Parallel(n_jobs=1)]: Done 1680 out of 1680 | elapsed:  3.7min finished\n"
     ]
    },
    {
     "name": "stdout",
     "output_type": "stream",
     "text": [
      "RMSE (test) = 554.5985663023888\n",
      "Choosen one best 554.5985663023888 660.4619262992576 True\n"
     ]
    },
    {
     "data": {
      "text/plain": [
       "RandomForestRegressor(min_samples_leaf=5, min_samples_split=5, n_jobs=-1)"
      ]
     },
     "execution_count": 20,
     "metadata": {},
     "output_type": "execute_result"
    }
   ],
   "source": [
    "sel_func4,rmse_4 = best_func(X,y)\n",
    "sel_func4.fit(X,y)"
   ]
  },
  {
   "cell_type": "code",
   "execution_count": 21,
   "metadata": {},
   "outputs": [
    {
     "name": "stdout",
     "output_type": "stream",
     "text": [
      "554.5985663023888\n",
      "RandomForestRegressor(min_samples_leaf=5, min_samples_split=5, n_jobs=-1)\n"
     ]
    }
   ],
   "source": [
    "print(rmse_4)\n",
    "print(sel_func4)"
   ]
  },
  {
   "cell_type": "code",
   "execution_count": 22,
   "metadata": {},
   "outputs": [
    {
     "name": "stderr",
     "output_type": "stream",
     "text": [
      "/home/ordovas/IRONHACK/mini-projects/kaggle-competition/cleaning/clean_func.py:68: SettingWithCopyWarning: \n",
      "A value is trying to be set on a copy of a slice from a DataFrame.\n",
      "Try using .loc[row_indexer,col_indexer] = value instead\n",
      "\n",
      "See the caveats in the documentation: https://pandas.pydata.org/pandas-docs/stable/user_guide/indexing.html#returning-a-view-versus-a-copy\n",
      "  diamonds[\"color\"]=diamonds[\"color\"].replace(color)\n",
      "/home/ordovas/IRONHACK/mini-projects/kaggle-competition/cleaning/clean_func.py:69: SettingWithCopyWarning: \n",
      "A value is trying to be set on a copy of a slice from a DataFrame.\n",
      "Try using .loc[row_indexer,col_indexer] = value instead\n",
      "\n",
      "See the caveats in the documentation: https://pandas.pydata.org/pandas-docs/stable/user_guide/indexing.html#returning-a-view-versus-a-copy\n",
      "  diamonds[\"cut\"]=diamonds[\"cut\"].replace(cut)\n",
      "/home/ordovas/IRONHACK/mini-projects/kaggle-competition/cleaning/clean_func.py:70: SettingWithCopyWarning: \n",
      "A value is trying to be set on a copy of a slice from a DataFrame.\n",
      "Try using .loc[row_indexer,col_indexer] = value instead\n",
      "\n",
      "See the caveats in the documentation: https://pandas.pydata.org/pandas-docs/stable/user_guide/indexing.html#returning-a-view-versus-a-copy\n",
      "  diamonds[\"clarity\"]=diamonds[\"clarity\"].replace(clarity)\n",
      "/home/ordovas/IRONHACK/mini-projects/kaggle-competition/cleaning/clean_func.py:72: SettingWithCopyWarning: \n",
      "A value is trying to be set on a copy of a slice from a DataFrame.\n",
      "Try using .loc[row_indexer,col_indexer] = value instead\n",
      "\n",
      "See the caveats in the documentation: https://pandas.pydata.org/pandas-docs/stable/user_guide/indexing.html#returning-a-view-versus-a-copy\n",
      "  diamonds[\"all_cat\"]=diamonds[\"color\"]*diamonds[\"cut\"]*diamonds[\"clarity\"]\n"
     ]
    }
   ],
   "source": [
    "diamonds_test= pd.read_csv(\"predict.csv\",index_col=\"id\")\n",
    "Xf_raw=cleaning_4(diamonds_test)\n",
    "Xf=scaler4.transform(Xf_raw.values)\n",
    "y_prediction = 10**sel_func4.predict(Xf)\n",
    "diamonds_test[\"price\"]=y_prediction\n",
    "diamonds_test[\"price\"].to_csv(\"res/grid_4_pred.csv\")"
   ]
  },
  {
   "cell_type": "code",
   "execution_count": null,
   "metadata": {},
   "outputs": [],
   "source": []
  },
  {
   "cell_type": "code",
   "execution_count": null,
   "metadata": {},
   "outputs": [],
   "source": []
  },
  {
   "cell_type": "code",
   "execution_count": 23,
   "metadata": {},
   "outputs": [],
   "source": [
    "y=y_processing(diamonds[\"price\"])\n",
    "X_raw=cleaning_5(diamonds.drop(columns=[\"price\"]))\n",
    "scaler5 = preprocessing.StandardScaler().fit(X_raw.values)\n",
    "X=scaler5.transform(X_raw)"
   ]
  },
  {
   "cell_type": "code",
   "execution_count": 24,
   "metadata": {},
   "outputs": [
    {
     "name": "stdout",
     "output_type": "stream",
     "text": [
      "LinearRegression\n",
      "RMSE (test) = 1710.0934406379788\n",
      "Choosen one best 1710.0934406379788 1000000 True\n",
      "KNN\n",
      "Fitting 5 folds for each of 18 candidates, totalling 90 fits\n"
     ]
    },
    {
     "name": "stderr",
     "output_type": "stream",
     "text": [
      "[Parallel(n_jobs=1)]: Using backend SequentialBackend with 1 concurrent workers.\n",
      "[Parallel(n_jobs=1)]: Done  90 out of  90 | elapsed:  9.6min finished\n"
     ]
    },
    {
     "name": "stdout",
     "output_type": "stream",
     "text": [
      "RMSE (test) = 769.9669647076493\n",
      "Choosen one best 769.9669647076493 1710.0934406379788 True\n",
      "Forest\n",
      "Fitting 5 folds for each of 336 candidates, totalling 1680 fits\n"
     ]
    },
    {
     "name": "stderr",
     "output_type": "stream",
     "text": [
      "[Parallel(n_jobs=1)]: Using backend SequentialBackend with 1 concurrent workers.\n",
      "[Parallel(n_jobs=1)]: Done 1680 out of 1680 | elapsed:  7.3min finished\n"
     ]
    },
    {
     "name": "stdout",
     "output_type": "stream",
     "text": [
      "RMSE (test) = 712.2989629874193\n",
      "Choosen one best 712.2989629874193 769.9669647076493 True\n"
     ]
    },
    {
     "data": {
      "text/plain": [
       "RandomForestRegressor(min_samples_leaf=5, min_samples_split=5, n_estimators=75,\n",
       "                      n_jobs=-1)"
      ]
     },
     "execution_count": 24,
     "metadata": {},
     "output_type": "execute_result"
    }
   ],
   "source": [
    "sel_func5,rmse_5 = best_func(X,y)\n",
    "sel_func5.fit(X,y)"
   ]
  },
  {
   "cell_type": "code",
   "execution_count": 25,
   "metadata": {},
   "outputs": [
    {
     "name": "stdout",
     "output_type": "stream",
     "text": [
      "712.2989629874193\n",
      "RandomForestRegressor(min_samples_leaf=5, min_samples_split=5, n_estimators=75,\n",
      "                      n_jobs=-1)\n"
     ]
    }
   ],
   "source": [
    "print(rmse_5)\n",
    "print(sel_func5)"
   ]
  },
  {
   "cell_type": "code",
   "execution_count": 26,
   "metadata": {},
   "outputs": [],
   "source": [
    "diamonds_test= pd.read_csv(\"predict.csv\",index_col=\"id\")\n",
    "Xf_raw=cleaning_5(diamonds_test)\n",
    "Xf=scaler5.transform(Xf_raw.values)\n",
    "y_prediction = 10**sel_func5.predict(Xf)\n",
    "diamonds_test[\"price\"]=y_prediction\n",
    "diamonds_test[\"price\"].to_csv(\"res/grid_5_pred.csv\")"
   ]
  },
  {
   "cell_type": "code",
   "execution_count": null,
   "metadata": {},
   "outputs": [],
   "source": []
  },
  {
   "cell_type": "code",
   "execution_count": null,
   "metadata": {},
   "outputs": [],
   "source": []
  },
  {
   "cell_type": "code",
   "execution_count": null,
   "metadata": {},
   "outputs": [],
   "source": []
  },
  {
   "cell_type": "code",
   "execution_count": 27,
   "metadata": {},
   "outputs": [
    {
     "name": "stderr",
     "output_type": "stream",
     "text": [
      "/home/ordovas/IRONHACK/mini-projects/kaggle-competition/cleaning/clean_func.py:89: SettingWithCopyWarning: \n",
      "A value is trying to be set on a copy of a slice from a DataFrame.\n",
      "Try using .loc[row_indexer,col_indexer] = value instead\n",
      "\n",
      "See the caveats in the documentation: https://pandas.pydata.org/pandas-docs/stable/user_guide/indexing.html#returning-a-view-versus-a-copy\n",
      "  diamonds[\"color\"]=diamonds[\"color\"].replace(color)\n",
      "/home/ordovas/IRONHACK/mini-projects/kaggle-competition/cleaning/clean_func.py:90: SettingWithCopyWarning: \n",
      "A value is trying to be set on a copy of a slice from a DataFrame.\n",
      "Try using .loc[row_indexer,col_indexer] = value instead\n",
      "\n",
      "See the caveats in the documentation: https://pandas.pydata.org/pandas-docs/stable/user_guide/indexing.html#returning-a-view-versus-a-copy\n",
      "  diamonds[\"cut\"]=diamonds[\"cut\"].replace(cut)\n",
      "/home/ordovas/IRONHACK/mini-projects/kaggle-competition/cleaning/clean_func.py:91: SettingWithCopyWarning: \n",
      "A value is trying to be set on a copy of a slice from a DataFrame.\n",
      "Try using .loc[row_indexer,col_indexer] = value instead\n",
      "\n",
      "See the caveats in the documentation: https://pandas.pydata.org/pandas-docs/stable/user_guide/indexing.html#returning-a-view-versus-a-copy\n",
      "  diamonds[\"clarity\"]=diamonds[\"clarity\"].replace(clarity)\n",
      "/home/ordovas/IRONHACK/mini-projects/kaggle-competition/cleaning/clean_func.py:98: SettingWithCopyWarning: \n",
      "A value is trying to be set on a copy of a slice from a DataFrame.\n",
      "Try using .loc[row_indexer,col_indexer] = value instead\n",
      "\n",
      "See the caveats in the documentation: https://pandas.pydata.org/pandas-docs/stable/user_guide/indexing.html#returning-a-view-versus-a-copy\n",
      "  diamonds[f\"{col1}*{col2}\"] = diamonds[col1]*diamonds[col2]\n"
     ]
    }
   ],
   "source": [
    "y=y_processing(diamonds[\"price\"])\n",
    "X_raw=cleaning_6(diamonds.drop(columns=[\"price\"]))\n",
    "scaler6 = preprocessing.StandardScaler().fit(X_raw.values)\n",
    "X=scaler6.transform(X_raw)"
   ]
  },
  {
   "cell_type": "code",
   "execution_count": 28,
   "metadata": {},
   "outputs": [
    {
     "name": "stderr",
     "output_type": "stream",
     "text": [
      "[Parallel(n_jobs=1)]: Using backend SequentialBackend with 1 concurrent workers.\n"
     ]
    },
    {
     "name": "stdout",
     "output_type": "stream",
     "text": [
      "LinearRegression\n",
      "RMSE (test) = 2011.704459871232\n",
      "Choosen one best 2011.704459871232 1000000 True\n",
      "KNN\n",
      "Fitting 5 folds for each of 18 candidates, totalling 90 fits\n"
     ]
    },
    {
     "name": "stderr",
     "output_type": "stream",
     "text": [
      "[Parallel(n_jobs=1)]: Done  90 out of  90 | elapsed:   54.0s finished\n",
      "[Parallel(n_jobs=1)]: Using backend SequentialBackend with 1 concurrent workers.\n"
     ]
    },
    {
     "name": "stdout",
     "output_type": "stream",
     "text": [
      "RMSE (test) = 784.5380160486079\n",
      "Choosen one best 784.5380160486079 2011.704459871232 True\n",
      "Forest\n",
      "Fitting 5 folds for each of 336 candidates, totalling 1680 fits\n"
     ]
    },
    {
     "name": "stderr",
     "output_type": "stream",
     "text": [
      "[Parallel(n_jobs=1)]: Done 1680 out of 1680 | elapsed:  7.4min finished\n"
     ]
    },
    {
     "name": "stdout",
     "output_type": "stream",
     "text": [
      "RMSE (test) = 671.9690851033037\n",
      "Choosen one best 671.9690851033037 784.5380160486079 True\n"
     ]
    },
    {
     "data": {
      "text/plain": [
       "RandomForestRegressor(min_samples_leaf=5, min_samples_split=5, n_jobs=-1)"
      ]
     },
     "execution_count": 28,
     "metadata": {},
     "output_type": "execute_result"
    }
   ],
   "source": [
    "sel_func6,rmse_6 = best_func(X,y)\n",
    "sel_func6.fit(X,y)"
   ]
  },
  {
   "cell_type": "code",
   "execution_count": 29,
   "metadata": {},
   "outputs": [
    {
     "name": "stdout",
     "output_type": "stream",
     "text": [
      "671.9690851033037\n",
      "RandomForestRegressor(min_samples_leaf=5, min_samples_split=5, n_jobs=-1)\n"
     ]
    }
   ],
   "source": [
    "print(rmse_6)\n",
    "print(sel_func6)"
   ]
  },
  {
   "cell_type": "code",
   "execution_count": 30,
   "metadata": {},
   "outputs": [
    {
     "name": "stderr",
     "output_type": "stream",
     "text": [
      "/home/ordovas/IRONHACK/mini-projects/kaggle-competition/cleaning/clean_func.py:89: SettingWithCopyWarning: \n",
      "A value is trying to be set on a copy of a slice from a DataFrame.\n",
      "Try using .loc[row_indexer,col_indexer] = value instead\n",
      "\n",
      "See the caveats in the documentation: https://pandas.pydata.org/pandas-docs/stable/user_guide/indexing.html#returning-a-view-versus-a-copy\n",
      "  diamonds[\"color\"]=diamonds[\"color\"].replace(color)\n",
      "/home/ordovas/IRONHACK/mini-projects/kaggle-competition/cleaning/clean_func.py:90: SettingWithCopyWarning: \n",
      "A value is trying to be set on a copy of a slice from a DataFrame.\n",
      "Try using .loc[row_indexer,col_indexer] = value instead\n",
      "\n",
      "See the caveats in the documentation: https://pandas.pydata.org/pandas-docs/stable/user_guide/indexing.html#returning-a-view-versus-a-copy\n",
      "  diamonds[\"cut\"]=diamonds[\"cut\"].replace(cut)\n",
      "/home/ordovas/IRONHACK/mini-projects/kaggle-competition/cleaning/clean_func.py:91: SettingWithCopyWarning: \n",
      "A value is trying to be set on a copy of a slice from a DataFrame.\n",
      "Try using .loc[row_indexer,col_indexer] = value instead\n",
      "\n",
      "See the caveats in the documentation: https://pandas.pydata.org/pandas-docs/stable/user_guide/indexing.html#returning-a-view-versus-a-copy\n",
      "  diamonds[\"clarity\"]=diamonds[\"clarity\"].replace(clarity)\n",
      "/home/ordovas/IRONHACK/mini-projects/kaggle-competition/cleaning/clean_func.py:98: SettingWithCopyWarning: \n",
      "A value is trying to be set on a copy of a slice from a DataFrame.\n",
      "Try using .loc[row_indexer,col_indexer] = value instead\n",
      "\n",
      "See the caveats in the documentation: https://pandas.pydata.org/pandas-docs/stable/user_guide/indexing.html#returning-a-view-versus-a-copy\n",
      "  diamonds[f\"{col1}*{col2}\"] = diamonds[col1]*diamonds[col2]\n"
     ]
    }
   ],
   "source": [
    "diamonds_test= pd.read_csv(\"predict.csv\",index_col=\"id\")\n",
    "Xf_raw=cleaning_6(diamonds_test)\n",
    "Xf=scaler6.transform(Xf_raw.values)\n",
    "y_prediction = 10**sel_func6.predict(Xf)\n",
    "diamonds_test[\"price\"]=y_prediction\n",
    "diamonds_test[\"price\"].to_csv(\"res/grid_6_pred.csv\")"
   ]
  },
  {
   "cell_type": "code",
   "execution_count": null,
   "metadata": {},
   "outputs": [],
   "source": []
  },
  {
   "cell_type": "code",
   "execution_count": 36,
   "metadata": {},
   "outputs": [
    {
     "name": "stderr",
     "output_type": "stream",
     "text": [
      "/home/ordovas/IRONHACK/mini-projects/kaggle-competition/cleaning/clean_func.py:41: SettingWithCopyWarning: \n",
      "A value is trying to be set on a copy of a slice from a DataFrame.\n",
      "Try using .loc[row_indexer,col_indexer] = value instead\n",
      "\n",
      "See the caveats in the documentation: https://pandas.pydata.org/pandas-docs/stable/user_guide/indexing.html#returning-a-view-versus-a-copy\n",
      "  diamonds[\"color\"]=diamonds[\"color\"].replace(color)\n",
      "/home/ordovas/IRONHACK/mini-projects/kaggle-competition/cleaning/clean_func.py:42: SettingWithCopyWarning: \n",
      "A value is trying to be set on a copy of a slice from a DataFrame.\n",
      "Try using .loc[row_indexer,col_indexer] = value instead\n",
      "\n",
      "See the caveats in the documentation: https://pandas.pydata.org/pandas-docs/stable/user_guide/indexing.html#returning-a-view-versus-a-copy\n",
      "  diamonds[\"cut\"]=diamonds[\"cut\"].replace(cut)\n",
      "/home/ordovas/IRONHACK/mini-projects/kaggle-competition/cleaning/clean_func.py:43: SettingWithCopyWarning: \n",
      "A value is trying to be set on a copy of a slice from a DataFrame.\n",
      "Try using .loc[row_indexer,col_indexer] = value instead\n",
      "\n",
      "See the caveats in the documentation: https://pandas.pydata.org/pandas-docs/stable/user_guide/indexing.html#returning-a-view-versus-a-copy\n",
      "  diamonds[\"clarity\"]=diamonds[\"clarity\"].replace(clarity)\n",
      "/home/ordovas/IRONHACK/mini-projects/kaggle-competition/cleaning/clean_func.py:50: SettingWithCopyWarning: \n",
      "A value is trying to be set on a copy of a slice from a DataFrame.\n",
      "Try using .loc[row_indexer,col_indexer] = value instead\n",
      "\n",
      "See the caveats in the documentation: https://pandas.pydata.org/pandas-docs/stable/user_guide/indexing.html#returning-a-view-versus-a-copy\n",
      "  diamonds[f\"{col1}*{col2}\"] = diamonds[col1]*diamonds[col2]\n"
     ]
    },
    {
     "name": "stdout",
     "output_type": "stream",
     "text": [
      "RMSE (test) = 477.7939940028408\n",
      "RMSE (test) = 452.68996847587755\n",
      "RMSE (test) = 450.92281011230966\n",
      "RMSE (test) = 457.97796854951787\n",
      "RMSE (test) = 486.3844909516093\n",
      "RMSE (test) = 459.910642251761\n",
      "RMSE (test) = 465.56433459869413\n",
      "RMSE (test) = 460.4845384189501\n",
      "RMSE (test) = 479.4942881020094\n",
      "RMSE (test) = 458.78551218336213\n",
      "RMSE (test) = 484.06734371704914\n",
      "RMSE (test) = 499.5677611911941\n",
      "RMSE (test) = 460.79065994392397\n",
      "RMSE (test) = 456.87778524270556\n",
      "RMSE (test) = 479.5243881279017\n",
      "RMSE (test) = 458.95844873528847\n",
      "RMSE (test) = 492.46762765019946\n",
      "RMSE (test) = 497.8631768776522\n",
      "RMSE (test) = 479.72938337126755\n",
      "RMSE (test) = 474.75217052811263\n",
      "RMSE (test) = 454.23058554388706\n",
      "RMSE (test) = 480.98676909738776\n",
      "RMSE (test) = 455.8146294642343\n",
      "RMSE (test) = 460.5837245621319\n",
      "RMSE (test) = 479.9142045973443\n",
      "RMSE (test) = 443.08709369190206\n",
      "RMSE (test) = 483.9422915683707\n",
      "RMSE (test) = 486.3189162572967\n",
      "RMSE (test) = 465.851522423068\n",
      "RMSE (test) = 472.31355849086833\n"
     ]
    }
   ],
   "source": [
    "from sklearn.model_selection import train_test_split\n",
    "\n",
    "y=y_processing(diamonds[\"price\"])\n",
    "X_raw=cleaning_2(diamonds.drop(columns=[\"price\"]))\n",
    "scaler2 = preprocessing.StandardScaler().fit(X_raw.values)\n",
    "X=scaler2.transform(X_raw)\n",
    "\n",
    "for _ in range(30):\n",
    "    X_train, X_test, y_train, y_test = train_test_split(X,y,train_size=0.85 )\n",
    "    y_prediction = 10**sel_func2.predict(X_test)\n",
    "    rmse = mean_squared_error(10**y_test.values, y_prediction, squared=False)\n",
    "    print(\"RMSE (test) =\",rmse)"
   ]
  },
  {
   "cell_type": "code",
   "execution_count": 37,
   "metadata": {},
   "outputs": [],
   "source": [
    "# https://stackoverflow.com/questions/30102973/how-to-get-best-estimator-on-gridsearchcv-random-forest-classifier-scikit"
   ]
  },
  {
   "cell_type": "code",
   "execution_count": 38,
   "metadata": {},
   "outputs": [
    {
     "name": "stderr",
     "output_type": "stream",
     "text": [
      "/home/ordovas/IRONHACK/mini-projects/kaggle-competition/cleaning/clean_func.py:68: SettingWithCopyWarning: \n",
      "A value is trying to be set on a copy of a slice from a DataFrame.\n",
      "Try using .loc[row_indexer,col_indexer] = value instead\n",
      "\n",
      "See the caveats in the documentation: https://pandas.pydata.org/pandas-docs/stable/user_guide/indexing.html#returning-a-view-versus-a-copy\n",
      "  diamonds[\"color\"]=diamonds[\"color\"].replace(color)\n",
      "/home/ordovas/IRONHACK/mini-projects/kaggle-competition/cleaning/clean_func.py:69: SettingWithCopyWarning: \n",
      "A value is trying to be set on a copy of a slice from a DataFrame.\n",
      "Try using .loc[row_indexer,col_indexer] = value instead\n",
      "\n",
      "See the caveats in the documentation: https://pandas.pydata.org/pandas-docs/stable/user_guide/indexing.html#returning-a-view-versus-a-copy\n",
      "  diamonds[\"cut\"]=diamonds[\"cut\"].replace(cut)\n",
      "/home/ordovas/IRONHACK/mini-projects/kaggle-competition/cleaning/clean_func.py:70: SettingWithCopyWarning: \n",
      "A value is trying to be set on a copy of a slice from a DataFrame.\n",
      "Try using .loc[row_indexer,col_indexer] = value instead\n",
      "\n",
      "See the caveats in the documentation: https://pandas.pydata.org/pandas-docs/stable/user_guide/indexing.html#returning-a-view-versus-a-copy\n",
      "  diamonds[\"clarity\"]=diamonds[\"clarity\"].replace(clarity)\n",
      "/home/ordovas/IRONHACK/mini-projects/kaggle-competition/cleaning/clean_func.py:72: SettingWithCopyWarning: \n",
      "A value is trying to be set on a copy of a slice from a DataFrame.\n",
      "Try using .loc[row_indexer,col_indexer] = value instead\n",
      "\n",
      "See the caveats in the documentation: https://pandas.pydata.org/pandas-docs/stable/user_guide/indexing.html#returning-a-view-versus-a-copy\n",
      "  diamonds[\"all_cat\"]=diamonds[\"color\"]*diamonds[\"cut\"]*diamonds[\"clarity\"]\n"
     ]
    },
    {
     "name": "stdout",
     "output_type": "stream",
     "text": [
      "RMSE (test) = 466.0300288100653\n",
      "RMSE (test) = 478.3448934610217\n",
      "RMSE (test) = 486.6280618416913\n",
      "RMSE (test) = 484.6605117623506\n",
      "RMSE (test) = 451.8348645050607\n",
      "RMSE (test) = 479.14490485063914\n",
      "RMSE (test) = 464.2479201913688\n",
      "RMSE (test) = 483.2714042637113\n",
      "RMSE (test) = 463.2938311598385\n",
      "RMSE (test) = 465.1682194307087\n",
      "RMSE (test) = 463.6756431664437\n",
      "RMSE (test) = 476.7856144955035\n",
      "RMSE (test) = 471.1571544140288\n",
      "RMSE (test) = 470.2108212924874\n",
      "RMSE (test) = 449.2189759582564\n",
      "RMSE (test) = 457.79233010287834\n",
      "RMSE (test) = 469.65331000257004\n",
      "RMSE (test) = 455.88981794926565\n",
      "RMSE (test) = 506.45913495591753\n",
      "RMSE (test) = 474.68945939646073\n",
      "RMSE (test) = 470.28650101988046\n",
      "RMSE (test) = 478.4119945961485\n",
      "RMSE (test) = 462.5071418382715\n",
      "RMSE (test) = 471.661761074043\n",
      "RMSE (test) = 479.6820877035697\n",
      "RMSE (test) = 463.91176223025695\n",
      "RMSE (test) = 501.9919225521102\n",
      "RMSE (test) = 468.22457136425163\n",
      "RMSE (test) = 462.58835879414573\n",
      "RMSE (test) = 476.701515396881\n"
     ]
    }
   ],
   "source": [
    "y=y_processing(diamonds[\"price\"])\n",
    "X_raw=cleaning_4(diamonds.drop(columns=[\"price\"]))\n",
    "scaler4 = preprocessing.StandardScaler().fit(X_raw.values)\n",
    "X=scaler4.transform(X_raw)\n",
    "\n",
    "for _ in range(30):\n",
    "    X_train, X_test, y_train, y_test = train_test_split(X,y,train_size=0.85 )\n",
    "    y_prediction = 10**sel_func4.predict(X_test)\n",
    "    rmse = mean_squared_error(10**y_test.values, y_prediction, squared=False)\n",
    "    print(\"RMSE (test) =\",rmse)"
   ]
  },
  {
   "cell_type": "code",
   "execution_count": null,
   "metadata": {},
   "outputs": [],
   "source": []
  },
  {
   "cell_type": "code",
   "execution_count": null,
   "metadata": {},
   "outputs": [],
   "source": []
  },
  {
   "cell_type": "code",
   "execution_count": null,
   "metadata": {},
   "outputs": [],
   "source": []
  },
  {
   "cell_type": "code",
   "execution_count": null,
   "metadata": {},
   "outputs": [],
   "source": []
  },
  {
   "cell_type": "code",
   "execution_count": null,
   "metadata": {},
   "outputs": [],
   "source": []
  },
  {
   "cell_type": "code",
   "execution_count": null,
   "metadata": {},
   "outputs": [],
   "source": []
  },
  {
   "cell_type": "code",
   "execution_count": null,
   "metadata": {},
   "outputs": [],
   "source": []
  },
  {
   "cell_type": "code",
   "execution_count": null,
   "metadata": {},
   "outputs": [],
   "source": []
  },
  {
   "cell_type": "code",
   "execution_count": null,
   "metadata": {},
   "outputs": [],
   "source": []
  },
  {
   "cell_type": "code",
   "execution_count": 39,
   "metadata": {},
   "outputs": [
    {
     "name": "stderr",
     "output_type": "stream",
     "text": [
      "/home/ordovas/IRONHACK/mini-projects/kaggle-competition/cleaning/clean_func.py:41: SettingWithCopyWarning: \n",
      "A value is trying to be set on a copy of a slice from a DataFrame.\n",
      "Try using .loc[row_indexer,col_indexer] = value instead\n",
      "\n",
      "See the caveats in the documentation: https://pandas.pydata.org/pandas-docs/stable/user_guide/indexing.html#returning-a-view-versus-a-copy\n",
      "  diamonds[\"color\"]=diamonds[\"color\"].replace(color)\n",
      "/home/ordovas/IRONHACK/mini-projects/kaggle-competition/cleaning/clean_func.py:42: SettingWithCopyWarning: \n",
      "A value is trying to be set on a copy of a slice from a DataFrame.\n",
      "Try using .loc[row_indexer,col_indexer] = value instead\n",
      "\n",
      "See the caveats in the documentation: https://pandas.pydata.org/pandas-docs/stable/user_guide/indexing.html#returning-a-view-versus-a-copy\n",
      "  diamonds[\"cut\"]=diamonds[\"cut\"].replace(cut)\n",
      "/home/ordovas/IRONHACK/mini-projects/kaggle-competition/cleaning/clean_func.py:43: SettingWithCopyWarning: \n",
      "A value is trying to be set on a copy of a slice from a DataFrame.\n",
      "Try using .loc[row_indexer,col_indexer] = value instead\n",
      "\n",
      "See the caveats in the documentation: https://pandas.pydata.org/pandas-docs/stable/user_guide/indexing.html#returning-a-view-versus-a-copy\n",
      "  diamonds[\"clarity\"]=diamonds[\"clarity\"].replace(clarity)\n",
      "/home/ordovas/IRONHACK/mini-projects/kaggle-competition/cleaning/clean_func.py:50: SettingWithCopyWarning: \n",
      "A value is trying to be set on a copy of a slice from a DataFrame.\n",
      "Try using .loc[row_indexer,col_indexer] = value instead\n",
      "\n",
      "See the caveats in the documentation: https://pandas.pydata.org/pandas-docs/stable/user_guide/indexing.html#returning-a-view-versus-a-copy\n",
      "  diamonds[f\"{col1}*{col2}\"] = diamonds[col1]*diamonds[col2]\n"
     ]
    }
   ],
   "source": [
    "y=y_processing(diamonds[\"price\"])\n",
    "X_raw=cleaning_2(diamonds.drop(columns=[\"price\"]))\n",
    "scaler2 = preprocessing.StandardScaler().fit(X_raw.values)\n",
    "X=scaler2.transform(X_raw)"
   ]
  },
  {
   "cell_type": "code",
   "execution_count": 40,
   "metadata": {},
   "outputs": [],
   "source": [
    "#(min_samples_leaf=5, min_samples_split=5, n_estimators=50, n_jobs=-1)"
   ]
  },
  {
   "cell_type": "code",
   "execution_count": null,
   "metadata": {},
   "outputs": [
    {
     "name": "stdout",
     "output_type": "stream",
     "text": [
      "LinearRegression\n",
      "RMSE (test) = 110387.5115669179\n",
      "Choosen one best 110387.5115669179 1000000 True\n",
      "KNN\n",
      "Fitting 5 folds for each of 18 candidates, totalling 90 fits\n"
     ]
    },
    {
     "name": "stderr",
     "output_type": "stream",
     "text": [
      "[Parallel(n_jobs=1)]: Using backend SequentialBackend with 1 concurrent workers.\n"
     ]
    },
    {
     "name": "stdout",
     "output_type": "stream",
     "text": [
      "RMSE (test) = 693.2855493508426\n",
      "Choosen one best 693.2855493508426 110387.5115669179 True\n",
      "Forest\n",
      "Fitting 5 folds for each of 336 candidates, totalling 1680 fits\n"
     ]
    },
    {
     "name": "stderr",
     "output_type": "stream",
     "text": [
      "[Parallel(n_jobs=1)]: Done  90 out of  90 | elapsed:   58.5s finished\n",
      "[Parallel(n_jobs=1)]: Using backend SequentialBackend with 1 concurrent workers.\n"
     ]
    }
   ],
   "source": [
    "sel_func2,rmse_2 = best_func(X,y)\n"
   ]
  },
  {
   "cell_type": "code",
   "execution_count": null,
   "metadata": {},
   "outputs": [],
   "source": [
    "print(rmse_2)\n",
    "print(sel_func2)"
   ]
  },
  {
   "cell_type": "code",
   "execution_count": null,
   "metadata": {},
   "outputs": [],
   "source": [
    "diamonds_test= pd.read_csv(\"predict.csv\",index_col=\"id\")\n",
    "Xf_raw=cleaning_2(diamonds_test)\n",
    "Xf=scaler2.transform(Xf_raw.values)\n",
    "y_prediction = 10**sel_func2.predict(Xf)\n",
    "diamonds_test[\"price\"]=y_prediction\n",
    "diamonds_test[\"price\"].to_csv(\"res/grid_2_pred.csv\")\n"
   ]
  },
  {
   "cell_type": "code",
   "execution_count": null,
   "metadata": {},
   "outputs": [],
   "source": [
    "for _ in range(30):\n",
    "    X_train, X_test, y_train, y_test = train_test_split(X,y,train_size=0.85 )\n",
    "    y_prediction = 10**sel_func2.predict(X_test)\n",
    "    rmse = mean_squared_error(10**y_test.values, y_prediction, squared=False)\n",
    "    print(\"RMSE (test) =\",rmse)"
   ]
  },
  {
   "cell_type": "code",
   "execution_count": null,
   "metadata": {},
   "outputs": [],
   "source": []
  }
 ],
 "metadata": {
  "kernelspec": {
   "display_name": "Python 3",
   "language": "python",
   "name": "python3"
  },
  "language_info": {
   "codemirror_mode": {
    "name": "ipython",
    "version": 3
   },
   "file_extension": ".py",
   "mimetype": "text/x-python",
   "name": "python",
   "nbconvert_exporter": "python",
   "pygments_lexer": "ipython3",
   "version": "3.8.5"
  }
 },
 "nbformat": 4,
 "nbformat_minor": 4
}
