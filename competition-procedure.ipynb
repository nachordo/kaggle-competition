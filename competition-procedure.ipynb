{
 "cells": [
  {
   "cell_type": "markdown",
   "metadata": {},
   "source": [
    "# Begining exploration of the data"
   ]
  },
  {
   "cell_type": "code",
   "execution_count": 1,
   "metadata": {},
   "outputs": [],
   "source": [
    "import numpy as np\n",
    "import pandas as pd\n",
    "import matplotlib.pyplot as plt\n",
    "import seaborn as sns\n",
    "\n",
    "from cleaning.clean_func import *\n",
    "from pipe.fitting_models import *\n",
    "\n",
    "from sklearn import preprocessing"
   ]
  },
  {
   "cell_type": "markdown",
   "metadata": {},
   "source": [
    "\n",
    "\n",
    "### Features\n",
    "- id: only for test & sample submission files, id for prediction sample identification\n",
    "- price: price in USD\n",
    "- carat: weight of the diamond\n",
    "- cut: quality of the cut (Fair, Good, Very Good, Premium, Ideal)\n",
    "- color: diamond colour, from J (worst) to D (best)\n",
    "- clarity: a measurement of how clear the diamond is (I1 (worst), SI2, SI1, VS2, VS1, VVS2, VVS1, IF (best))\n",
    "- x: length in mm\n",
    "- y: width in mm\n",
    "- z: depth in mm\n",
    "- depth: total depth percentage = z / mean(x, y) = 2 * z / (x + y) (43--79)\n",
    "- table: width of top of diamond relative to widest point (43--95)"
   ]
  },
  {
   "cell_type": "code",
   "execution_count": 2,
   "metadata": {},
   "outputs": [
    {
     "data": {
      "text/html": [
       "<div>\n",
       "<style scoped>\n",
       "    .dataframe tbody tr th:only-of-type {\n",
       "        vertical-align: middle;\n",
       "    }\n",
       "\n",
       "    .dataframe tbody tr th {\n",
       "        vertical-align: top;\n",
       "    }\n",
       "\n",
       "    .dataframe thead th {\n",
       "        text-align: right;\n",
       "    }\n",
       "</style>\n",
       "<table border=\"1\" class=\"dataframe\">\n",
       "  <thead>\n",
       "    <tr style=\"text-align: right;\">\n",
       "      <th></th>\n",
       "      <th>carat</th>\n",
       "      <th>cut</th>\n",
       "      <th>color</th>\n",
       "      <th>clarity</th>\n",
       "      <th>depth</th>\n",
       "      <th>table</th>\n",
       "      <th>x</th>\n",
       "      <th>y</th>\n",
       "      <th>z</th>\n",
       "      <th>price</th>\n",
       "    </tr>\n",
       "    <tr>\n",
       "      <th>id</th>\n",
       "      <th></th>\n",
       "      <th></th>\n",
       "      <th></th>\n",
       "      <th></th>\n",
       "      <th></th>\n",
       "      <th></th>\n",
       "      <th></th>\n",
       "      <th></th>\n",
       "      <th></th>\n",
       "      <th></th>\n",
       "    </tr>\n",
       "  </thead>\n",
       "  <tbody>\n",
       "    <tr>\n",
       "      <th>0</th>\n",
       "      <td>0.50</td>\n",
       "      <td>Ideal</td>\n",
       "      <td>D</td>\n",
       "      <td>VS2</td>\n",
       "      <td>62.3</td>\n",
       "      <td>55.0</td>\n",
       "      <td>5.11</td>\n",
       "      <td>5.07</td>\n",
       "      <td>3.17</td>\n",
       "      <td>1845</td>\n",
       "    </tr>\n",
       "    <tr>\n",
       "      <th>1</th>\n",
       "      <td>1.54</td>\n",
       "      <td>Good</td>\n",
       "      <td>I</td>\n",
       "      <td>VS1</td>\n",
       "      <td>63.6</td>\n",
       "      <td>60.0</td>\n",
       "      <td>7.30</td>\n",
       "      <td>7.33</td>\n",
       "      <td>4.65</td>\n",
       "      <td>10164</td>\n",
       "    </tr>\n",
       "    <tr>\n",
       "      <th>2</th>\n",
       "      <td>1.32</td>\n",
       "      <td>Very Good</td>\n",
       "      <td>J</td>\n",
       "      <td>SI2</td>\n",
       "      <td>61.7</td>\n",
       "      <td>60.0</td>\n",
       "      <td>6.95</td>\n",
       "      <td>7.01</td>\n",
       "      <td>4.31</td>\n",
       "      <td>5513</td>\n",
       "    </tr>\n",
       "    <tr>\n",
       "      <th>3</th>\n",
       "      <td>1.20</td>\n",
       "      <td>Ideal</td>\n",
       "      <td>I</td>\n",
       "      <td>SI1</td>\n",
       "      <td>62.1</td>\n",
       "      <td>55.0</td>\n",
       "      <td>6.83</td>\n",
       "      <td>6.79</td>\n",
       "      <td>4.23</td>\n",
       "      <td>5174</td>\n",
       "    </tr>\n",
       "    <tr>\n",
       "      <th>4</th>\n",
       "      <td>1.73</td>\n",
       "      <td>Premium</td>\n",
       "      <td>I</td>\n",
       "      <td>SI1</td>\n",
       "      <td>61.2</td>\n",
       "      <td>60.0</td>\n",
       "      <td>7.67</td>\n",
       "      <td>7.65</td>\n",
       "      <td>4.69</td>\n",
       "      <td>10957</td>\n",
       "    </tr>\n",
       "  </tbody>\n",
       "</table>\n",
       "</div>"
      ],
      "text/plain": [
       "    carat        cut color clarity  depth  table     x     y     z  price\n",
       "id                                                                       \n",
       "0    0.50      Ideal     D     VS2   62.3   55.0  5.11  5.07  3.17   1845\n",
       "1    1.54       Good     I     VS1   63.6   60.0  7.30  7.33  4.65  10164\n",
       "2    1.32  Very Good     J     SI2   61.7   60.0  6.95  7.01  4.31   5513\n",
       "3    1.20      Ideal     I     SI1   62.1   55.0  6.83  6.79  4.23   5174\n",
       "4    1.73    Premium     I     SI1   61.2   60.0  7.67  7.65  4.69  10957"
      ]
     },
     "execution_count": 2,
     "metadata": {},
     "output_type": "execute_result"
    }
   ],
   "source": [
    "diamonds = pd.read_csv(\"train.csv\",index_col=\"id\")\n",
    "diamonds.head()"
   ]
  },
  {
   "cell_type": "code",
   "execution_count": null,
   "metadata": {},
   "outputs": [],
   "source": []
  },
  {
   "cell_type": "code",
   "execution_count": null,
   "metadata": {},
   "outputs": [],
   "source": []
  },
  {
   "cell_type": "markdown",
   "metadata": {},
   "source": [
    "Importing ML models"
   ]
  },
  {
   "cell_type": "code",
   "execution_count": 3,
   "metadata": {},
   "outputs": [],
   "source": [
    "from sklearn import linear_model\n",
    "from sklearn.model_selection import GridSearchCV\n",
    "from sklearn.ensemble import RandomForestRegressor\n",
    "from sklearn.linear_model import ElasticNet"
   ]
  },
  {
   "cell_type": "code",
   "execution_count": null,
   "metadata": {},
   "outputs": [],
   "source": []
  },
  {
   "cell_type": "code",
   "execution_count": null,
   "metadata": {
    "scrolled": true
   },
   "outputs": [],
   "source": []
  },
  {
   "cell_type": "markdown",
   "metadata": {},
   "source": [
    "1st MODEL"
   ]
  },
  {
   "cell_type": "code",
   "execution_count": 4,
   "metadata": {},
   "outputs": [],
   "source": [
    "y=y_processing(diamonds[\"price\"])\n",
    "X_raw=cleaning_1(diamonds.drop(columns=[\"price\"]))\n",
    "scaler = preprocessing.StandardScaler().fit(X_raw.values)\n",
    "X=scaler.transform(X_raw)"
   ]
  },
  {
   "cell_type": "code",
   "execution_count": 9,
   "metadata": {},
   "outputs": [
    {
     "name": "stdout",
     "output_type": "stream",
     "text": [
      "LinearRegression\n",
      "RMSE (test) = 1002.7527392109839\n",
      "Choosen one best 1002.7527392109839 1000000 True\n",
      "KNN\n",
      "Fitting 5 folds for each of 18 candidates, totalling 90 fits\n"
     ]
    },
    {
     "name": "stderr",
     "output_type": "stream",
     "text": [
      "[Parallel(n_jobs=1)]: Using backend SequentialBackend with 1 concurrent workers.\n",
      "[Parallel(n_jobs=1)]: Done  90 out of  90 | elapsed:  9.5min finished\n"
     ]
    },
    {
     "name": "stdout",
     "output_type": "stream",
     "text": [
      "RMSE (test) = 652.7200024388085\n",
      "Choosen one best 652.7200024388085 1002.7527392109839 True\n",
      "Forest\n",
      "Fitting 5 folds for each of 336 candidates, totalling 1680 fits\n"
     ]
    },
    {
     "name": "stderr",
     "output_type": "stream",
     "text": [
      "[Parallel(n_jobs=1)]: Using backend SequentialBackend with 1 concurrent workers.\n",
      "[Parallel(n_jobs=1)]: Done 1680 out of 1680 | elapsed: 11.8min finished\n"
     ]
    },
    {
     "name": "stdout",
     "output_type": "stream",
     "text": [
      "RMSE (test) = 721.2007310622586\n"
     ]
    },
    {
     "data": {
      "text/plain": [
       "KNeighborsRegressor(weights='distance')"
      ]
     },
     "execution_count": 9,
     "metadata": {},
     "output_type": "execute_result"
    }
   ],
   "source": [
    "sel_func,rmse_1 = best_func(X,y)\n",
    "sel_func.fit(X,y)"
   ]
  },
  {
   "cell_type": "code",
   "execution_count": 10,
   "metadata": {},
   "outputs": [
    {
     "name": "stdout",
     "output_type": "stream",
     "text": [
      "652.7200024388085\n",
      "KNeighborsRegressor(weights='distance')\n"
     ]
    }
   ],
   "source": [
    "print(rmse_1)\n",
    "print(sel_func)"
   ]
  },
  {
   "cell_type": "code",
   "execution_count": 11,
   "metadata": {},
   "outputs": [
    {
     "name": "stdout",
     "output_type": "stream",
     "text": [
      "RMSE (test) = 14.457395849648082\n"
     ]
    }
   ],
   "source": [
    "from sklearn.metrics import r2_score,mean_squared_error\n",
    "y_pred=sel_func.predict(X)\n",
    "rmse = mean_squared_error(10**y.values, 10**y_pred, squared=False)\n",
    "print(\"RMSE (test) =\",rmse)"
   ]
  },
  {
   "cell_type": "code",
   "execution_count": 12,
   "metadata": {},
   "outputs": [],
   "source": [
    "diamonds_test= pd.read_csv(\"predict.csv\",index_col=\"id\")\n",
    "Xf_raw=cleaning_1(diamonds_test)\n",
    "Xf=scaler.transform(Xf_raw.values)\n",
    "y_prediction = 10**sel_func.predict(Xf)\n",
    "diamonds_test[\"price\"]=y_prediction\n",
    "diamonds_test[\"price\"].to_csv(\"res/grid_1_pred.csv\")"
   ]
  },
  {
   "cell_type": "markdown",
   "metadata": {},
   "source": [
    "2nd MODEL"
   ]
  },
  {
   "cell_type": "code",
   "execution_count": 13,
   "metadata": {},
   "outputs": [
    {
     "name": "stderr",
     "output_type": "stream",
     "text": [
      "/home/ordovas/IRONHACK/mini-projects/kaggle-competition/cleaning/clean_func.py:41: SettingWithCopyWarning: \n",
      "A value is trying to be set on a copy of a slice from a DataFrame.\n",
      "Try using .loc[row_indexer,col_indexer] = value instead\n",
      "\n",
      "See the caveats in the documentation: https://pandas.pydata.org/pandas-docs/stable/user_guide/indexing.html#returning-a-view-versus-a-copy\n",
      "  diamonds[\"color\"]=diamonds[\"color\"].replace(color)\n",
      "/home/ordovas/IRONHACK/mini-projects/kaggle-competition/cleaning/clean_func.py:42: SettingWithCopyWarning: \n",
      "A value is trying to be set on a copy of a slice from a DataFrame.\n",
      "Try using .loc[row_indexer,col_indexer] = value instead\n",
      "\n",
      "See the caveats in the documentation: https://pandas.pydata.org/pandas-docs/stable/user_guide/indexing.html#returning-a-view-versus-a-copy\n",
      "  diamonds[\"cut\"]=diamonds[\"cut\"].replace(cut)\n",
      "/home/ordovas/IRONHACK/mini-projects/kaggle-competition/cleaning/clean_func.py:43: SettingWithCopyWarning: \n",
      "A value is trying to be set on a copy of a slice from a DataFrame.\n",
      "Try using .loc[row_indexer,col_indexer] = value instead\n",
      "\n",
      "See the caveats in the documentation: https://pandas.pydata.org/pandas-docs/stable/user_guide/indexing.html#returning-a-view-versus-a-copy\n",
      "  diamonds[\"clarity\"]=diamonds[\"clarity\"].replace(clarity)\n",
      "/home/ordovas/IRONHACK/mini-projects/kaggle-competition/cleaning/clean_func.py:50: SettingWithCopyWarning: \n",
      "A value is trying to be set on a copy of a slice from a DataFrame.\n",
      "Try using .loc[row_indexer,col_indexer] = value instead\n",
      "\n",
      "See the caveats in the documentation: https://pandas.pydata.org/pandas-docs/stable/user_guide/indexing.html#returning-a-view-versus-a-copy\n",
      "  diamonds[f\"{col1}*{col2}\"] = diamonds[col1]*diamonds[col2]\n"
     ]
    }
   ],
   "source": [
    "y=y_processing(diamonds[\"price\"])\n",
    "X_raw=cleaning_2(diamonds.drop(columns=[\"price\"]))\n",
    "scaler2 = preprocessing.StandardScaler().fit(X_raw.values)\n",
    "X=scaler2.transform(X_raw)"
   ]
  },
  {
   "cell_type": "code",
   "execution_count": 14,
   "metadata": {},
   "outputs": [],
   "source": [
    "#(min_samples_leaf=5, min_samples_split=5, n_estimators=50, n_jobs=-1)"
   ]
  },
  {
   "cell_type": "code",
   "execution_count": 15,
   "metadata": {},
   "outputs": [
    {
     "name": "stdout",
     "output_type": "stream",
     "text": [
      "LinearRegression\n",
      "RMSE (test) = 6193.006723698375\n",
      "Choosen one best 6193.006723698375 1000000 True\n",
      "KNN\n",
      "Fitting 5 folds for each of 18 candidates, totalling 90 fits\n"
     ]
    },
    {
     "name": "stderr",
     "output_type": "stream",
     "text": [
      "[Parallel(n_jobs=1)]: Using backend SequentialBackend with 1 concurrent workers.\n",
      "[Parallel(n_jobs=1)]: Done  90 out of  90 | elapsed:   53.5s finished\n",
      "[Parallel(n_jobs=1)]: Using backend SequentialBackend with 1 concurrent workers.\n"
     ]
    },
    {
     "name": "stdout",
     "output_type": "stream",
     "text": [
      "RMSE (test) = 651.1109536693785\n",
      "Choosen one best 651.1109536693785 6193.006723698375 True\n",
      "Forest\n",
      "Fitting 5 folds for each of 336 candidates, totalling 1680 fits\n"
     ]
    },
    {
     "name": "stderr",
     "output_type": "stream",
     "text": [
      "[Parallel(n_jobs=1)]: Done 1680 out of 1680 | elapsed:  7.1min finished\n"
     ]
    },
    {
     "name": "stdout",
     "output_type": "stream",
     "text": [
      "RMSE (test) = 571.3367727564453\n",
      "Choosen one best 571.3367727564453 651.1109536693785 True\n"
     ]
    },
    {
     "data": {
      "text/plain": [
       "RandomForestRegressor(min_samples_leaf=5, min_samples_split=5, n_jobs=-1)"
      ]
     },
     "execution_count": 15,
     "metadata": {},
     "output_type": "execute_result"
    }
   ],
   "source": [
    "sel_func2,rmse_2 = best_func(X,y)\n",
    "sel_func2.fit(X,y)\n"
   ]
  },
  {
   "cell_type": "code",
   "execution_count": 16,
   "metadata": {},
   "outputs": [
    {
     "name": "stdout",
     "output_type": "stream",
     "text": [
      "571.3367727564453\n",
      "RandomForestRegressor(min_samples_leaf=5, min_samples_split=5, n_jobs=-1)\n"
     ]
    }
   ],
   "source": [
    "print(rmse_2)\n",
    "print(sel_func2)"
   ]
  },
  {
   "cell_type": "code",
   "execution_count": 17,
   "metadata": {},
   "outputs": [
    {
     "name": "stderr",
     "output_type": "stream",
     "text": [
      "/home/ordovas/IRONHACK/mini-projects/kaggle-competition/cleaning/clean_func.py:41: SettingWithCopyWarning: \n",
      "A value is trying to be set on a copy of a slice from a DataFrame.\n",
      "Try using .loc[row_indexer,col_indexer] = value instead\n",
      "\n",
      "See the caveats in the documentation: https://pandas.pydata.org/pandas-docs/stable/user_guide/indexing.html#returning-a-view-versus-a-copy\n",
      "  diamonds[\"color\"]=diamonds[\"color\"].replace(color)\n",
      "/home/ordovas/IRONHACK/mini-projects/kaggle-competition/cleaning/clean_func.py:42: SettingWithCopyWarning: \n",
      "A value is trying to be set on a copy of a slice from a DataFrame.\n",
      "Try using .loc[row_indexer,col_indexer] = value instead\n",
      "\n",
      "See the caveats in the documentation: https://pandas.pydata.org/pandas-docs/stable/user_guide/indexing.html#returning-a-view-versus-a-copy\n",
      "  diamonds[\"cut\"]=diamonds[\"cut\"].replace(cut)\n",
      "/home/ordovas/IRONHACK/mini-projects/kaggle-competition/cleaning/clean_func.py:43: SettingWithCopyWarning: \n",
      "A value is trying to be set on a copy of a slice from a DataFrame.\n",
      "Try using .loc[row_indexer,col_indexer] = value instead\n",
      "\n",
      "See the caveats in the documentation: https://pandas.pydata.org/pandas-docs/stable/user_guide/indexing.html#returning-a-view-versus-a-copy\n",
      "  diamonds[\"clarity\"]=diamonds[\"clarity\"].replace(clarity)\n",
      "/home/ordovas/IRONHACK/mini-projects/kaggle-competition/cleaning/clean_func.py:50: SettingWithCopyWarning: \n",
      "A value is trying to be set on a copy of a slice from a DataFrame.\n",
      "Try using .loc[row_indexer,col_indexer] = value instead\n",
      "\n",
      "See the caveats in the documentation: https://pandas.pydata.org/pandas-docs/stable/user_guide/indexing.html#returning-a-view-versus-a-copy\n",
      "  diamonds[f\"{col1}*{col2}\"] = diamonds[col1]*diamonds[col2]\n"
     ]
    }
   ],
   "source": [
    "diamonds_test= pd.read_csv(\"predict.csv\",index_col=\"id\")\n",
    "Xf_raw=cleaning_2(diamonds_test)\n",
    "Xf=scaler2.transform(Xf_raw.values)\n",
    "y_prediction = 10**sel_func2.predict(Xf)\n",
    "diamonds_test[\"price\"]=y_prediction\n",
    "diamonds_test[\"price\"].to_csv(\"res/grid_2_pred.csv\")\n"
   ]
  },
  {
   "cell_type": "markdown",
   "metadata": {},
   "source": [
    "3rd MODEL"
   ]
  },
  {
   "cell_type": "code",
   "execution_count": 18,
   "metadata": {},
   "outputs": [],
   "source": [
    "y=y_processing(diamonds[\"price\"])\n",
    "X_raw=cleaning_3(diamonds.drop(columns=[\"price\"]))\n",
    "scaler3 = preprocessing.StandardScaler().fit(X_raw.values)\n",
    "X=scaler3.transform(X_raw)"
   ]
  },
  {
   "cell_type": "code",
   "execution_count": 19,
   "metadata": {},
   "outputs": [
    {
     "name": "stdout",
     "output_type": "stream",
     "text": [
      "LinearRegression\n",
      "RMSE (test) = 5610.2217587438945\n",
      "Choosen one best 5610.2217587438945 1000000 True\n",
      "KNN\n",
      "Fitting 5 folds for each of 18 candidates, totalling 90 fits\n"
     ]
    },
    {
     "name": "stderr",
     "output_type": "stream",
     "text": [
      "[Parallel(n_jobs=1)]: Using backend SequentialBackend with 1 concurrent workers.\n",
      "[Parallel(n_jobs=1)]: Done  90 out of  90 | elapsed:  7.8min finished\n"
     ]
    },
    {
     "name": "stdout",
     "output_type": "stream",
     "text": [
      "RMSE (test) = 692.7519036665183\n",
      "Choosen one best 692.7519036665183 5610.2217587438945 True\n",
      "Forest\n",
      "Fitting 5 folds for each of 336 candidates, totalling 1680 fits\n"
     ]
    },
    {
     "name": "stderr",
     "output_type": "stream",
     "text": [
      "[Parallel(n_jobs=1)]: Using backend SequentialBackend with 1 concurrent workers.\n",
      "[Parallel(n_jobs=1)]: Done 1680 out of 1680 | elapsed:  6.5min finished\n"
     ]
    },
    {
     "name": "stdout",
     "output_type": "stream",
     "text": [
      "RMSE (test) = 661.788541347771\n",
      "Choosen one best 661.788541347771 692.7519036665183 True\n"
     ]
    },
    {
     "data": {
      "text/plain": [
       "RandomForestRegressor(min_samples_leaf=5, min_samples_split=5, n_estimators=75,\n",
       "                      n_jobs=-1)"
      ]
     },
     "execution_count": 19,
     "metadata": {},
     "output_type": "execute_result"
    }
   ],
   "source": [
    "sel_func3,rmse_3 = best_func(X,y)\n",
    "sel_func3.fit(X,y)\n"
   ]
  },
  {
   "cell_type": "code",
   "execution_count": 20,
   "metadata": {},
   "outputs": [
    {
     "name": "stdout",
     "output_type": "stream",
     "text": [
      "661.788541347771\n",
      "RandomForestRegressor(min_samples_leaf=5, min_samples_split=5, n_estimators=75,\n",
      "                      n_jobs=-1)\n"
     ]
    }
   ],
   "source": [
    "print(rmse_3)\n",
    "print(sel_func3)"
   ]
  },
  {
   "cell_type": "code",
   "execution_count": 21,
   "metadata": {},
   "outputs": [],
   "source": [
    "diamonds_test= pd.read_csv(\"predict.csv\",index_col=\"id\")\n",
    "Xf_raw=cleaning_3(diamonds_test)\n",
    "Xf=scaler3.transform(Xf_raw.values)\n",
    "y_prediction = 10**sel_func3.predict(Xf)\n",
    "diamonds_test[\"price\"]=y_prediction\n",
    "diamonds_test[\"price\"].to_csv(\"res/grid_3_pred.csv\")"
   ]
  },
  {
   "cell_type": "code",
   "execution_count": null,
   "metadata": {},
   "outputs": [],
   "source": []
  },
  {
   "cell_type": "markdown",
   "metadata": {},
   "source": [
    "4th MODEL"
   ]
  },
  {
   "cell_type": "code",
   "execution_count": 22,
   "metadata": {},
   "outputs": [
    {
     "name": "stderr",
     "output_type": "stream",
     "text": [
      "/home/ordovas/IRONHACK/mini-projects/kaggle-competition/cleaning/clean_func.py:68: SettingWithCopyWarning: \n",
      "A value is trying to be set on a copy of a slice from a DataFrame.\n",
      "Try using .loc[row_indexer,col_indexer] = value instead\n",
      "\n",
      "See the caveats in the documentation: https://pandas.pydata.org/pandas-docs/stable/user_guide/indexing.html#returning-a-view-versus-a-copy\n",
      "  diamonds[\"color\"]=diamonds[\"color\"].replace(color)\n",
      "/home/ordovas/IRONHACK/mini-projects/kaggle-competition/cleaning/clean_func.py:69: SettingWithCopyWarning: \n",
      "A value is trying to be set on a copy of a slice from a DataFrame.\n",
      "Try using .loc[row_indexer,col_indexer] = value instead\n",
      "\n",
      "See the caveats in the documentation: https://pandas.pydata.org/pandas-docs/stable/user_guide/indexing.html#returning-a-view-versus-a-copy\n",
      "  diamonds[\"cut\"]=diamonds[\"cut\"].replace(cut)\n",
      "/home/ordovas/IRONHACK/mini-projects/kaggle-competition/cleaning/clean_func.py:70: SettingWithCopyWarning: \n",
      "A value is trying to be set on a copy of a slice from a DataFrame.\n",
      "Try using .loc[row_indexer,col_indexer] = value instead\n",
      "\n",
      "See the caveats in the documentation: https://pandas.pydata.org/pandas-docs/stable/user_guide/indexing.html#returning-a-view-versus-a-copy\n",
      "  diamonds[\"clarity\"]=diamonds[\"clarity\"].replace(clarity)\n",
      "/home/ordovas/IRONHACK/mini-projects/kaggle-competition/cleaning/clean_func.py:72: SettingWithCopyWarning: \n",
      "A value is trying to be set on a copy of a slice from a DataFrame.\n",
      "Try using .loc[row_indexer,col_indexer] = value instead\n",
      "\n",
      "See the caveats in the documentation: https://pandas.pydata.org/pandas-docs/stable/user_guide/indexing.html#returning-a-view-versus-a-copy\n",
      "  diamonds[\"all_cat\"]=diamonds[\"color\"]*diamonds[\"cut\"]*diamonds[\"clarity\"]\n"
     ]
    }
   ],
   "source": [
    "y=y_processing(diamonds[\"price\"])\n",
    "X_raw=cleaning_4(diamonds.drop(columns=[\"price\"]))\n",
    "scaler4 = preprocessing.StandardScaler().fit(X_raw.values)\n",
    "X=scaler4.transform(X_raw)"
   ]
  },
  {
   "cell_type": "code",
   "execution_count": 23,
   "metadata": {},
   "outputs": [
    {
     "name": "stderr",
     "output_type": "stream",
     "text": [
      "[Parallel(n_jobs=1)]: Using backend SequentialBackend with 1 concurrent workers.\n"
     ]
    },
    {
     "name": "stdout",
     "output_type": "stream",
     "text": [
      "LinearRegression\n",
      "RMSE (test) = 28155.65257380409\n",
      "Choosen one best 28155.65257380409 1000000 True\n",
      "KNN\n",
      "Fitting 5 folds for each of 18 candidates, totalling 90 fits\n"
     ]
    },
    {
     "name": "stderr",
     "output_type": "stream",
     "text": [
      "[Parallel(n_jobs=1)]: Done  90 out of  90 | elapsed:   35.9s finished\n",
      "[Parallel(n_jobs=1)]: Using backend SequentialBackend with 1 concurrent workers.\n"
     ]
    },
    {
     "name": "stdout",
     "output_type": "stream",
     "text": [
      "RMSE (test) = 669.5573221592437\n",
      "Choosen one best 669.5573221592437 28155.65257380409 True\n",
      "Forest\n",
      "Fitting 5 folds for each of 336 candidates, totalling 1680 fits\n"
     ]
    },
    {
     "name": "stderr",
     "output_type": "stream",
     "text": [
      "[Parallel(n_jobs=1)]: Done 1680 out of 1680 | elapsed:  3.6min finished\n"
     ]
    },
    {
     "name": "stdout",
     "output_type": "stream",
     "text": [
      "RMSE (test) = 562.4066484968095\n",
      "Choosen one best 562.4066484968095 669.5573221592437 True\n"
     ]
    },
    {
     "data": {
      "text/plain": [
       "RandomForestRegressor(min_samples_leaf=5, min_samples_split=5, n_estimators=75,\n",
       "                      n_jobs=-1)"
      ]
     },
     "execution_count": 23,
     "metadata": {},
     "output_type": "execute_result"
    }
   ],
   "source": [
    "sel_func4,rmse_4 = best_func(X,y)\n",
    "sel_func4.fit(X,y)"
   ]
  },
  {
   "cell_type": "code",
   "execution_count": 24,
   "metadata": {},
   "outputs": [
    {
     "name": "stdout",
     "output_type": "stream",
     "text": [
      "562.4066484968095\n",
      "RandomForestRegressor(min_samples_leaf=5, min_samples_split=5, n_estimators=75,\n",
      "                      n_jobs=-1)\n"
     ]
    }
   ],
   "source": [
    "print(rmse_4)\n",
    "print(sel_func4)"
   ]
  },
  {
   "cell_type": "code",
   "execution_count": 25,
   "metadata": {},
   "outputs": [
    {
     "name": "stderr",
     "output_type": "stream",
     "text": [
      "/home/ordovas/IRONHACK/mini-projects/kaggle-competition/cleaning/clean_func.py:68: SettingWithCopyWarning: \n",
      "A value is trying to be set on a copy of a slice from a DataFrame.\n",
      "Try using .loc[row_indexer,col_indexer] = value instead\n",
      "\n",
      "See the caveats in the documentation: https://pandas.pydata.org/pandas-docs/stable/user_guide/indexing.html#returning-a-view-versus-a-copy\n",
      "  diamonds[\"color\"]=diamonds[\"color\"].replace(color)\n",
      "/home/ordovas/IRONHACK/mini-projects/kaggle-competition/cleaning/clean_func.py:69: SettingWithCopyWarning: \n",
      "A value is trying to be set on a copy of a slice from a DataFrame.\n",
      "Try using .loc[row_indexer,col_indexer] = value instead\n",
      "\n",
      "See the caveats in the documentation: https://pandas.pydata.org/pandas-docs/stable/user_guide/indexing.html#returning-a-view-versus-a-copy\n",
      "  diamonds[\"cut\"]=diamonds[\"cut\"].replace(cut)\n",
      "/home/ordovas/IRONHACK/mini-projects/kaggle-competition/cleaning/clean_func.py:70: SettingWithCopyWarning: \n",
      "A value is trying to be set on a copy of a slice from a DataFrame.\n",
      "Try using .loc[row_indexer,col_indexer] = value instead\n",
      "\n",
      "See the caveats in the documentation: https://pandas.pydata.org/pandas-docs/stable/user_guide/indexing.html#returning-a-view-versus-a-copy\n",
      "  diamonds[\"clarity\"]=diamonds[\"clarity\"].replace(clarity)\n",
      "/home/ordovas/IRONHACK/mini-projects/kaggle-competition/cleaning/clean_func.py:72: SettingWithCopyWarning: \n",
      "A value is trying to be set on a copy of a slice from a DataFrame.\n",
      "Try using .loc[row_indexer,col_indexer] = value instead\n",
      "\n",
      "See the caveats in the documentation: https://pandas.pydata.org/pandas-docs/stable/user_guide/indexing.html#returning-a-view-versus-a-copy\n",
      "  diamonds[\"all_cat\"]=diamonds[\"color\"]*diamonds[\"cut\"]*diamonds[\"clarity\"]\n"
     ]
    }
   ],
   "source": [
    "diamonds_test= pd.read_csv(\"predict.csv\",index_col=\"id\")\n",
    "Xf_raw=cleaning_4(diamonds_test)\n",
    "Xf=scaler4.transform(Xf_raw.values)\n",
    "y_prediction = 10**sel_func4.predict(Xf)\n",
    "diamonds_test[\"price\"]=y_prediction\n",
    "diamonds_test[\"price\"].to_csv(\"res/grid_4_pred.csv\")"
   ]
  },
  {
   "cell_type": "code",
   "execution_count": null,
   "metadata": {},
   "outputs": [],
   "source": []
  },
  {
   "cell_type": "markdown",
   "metadata": {},
   "source": [
    "5th MODEL"
   ]
  },
  {
   "cell_type": "code",
   "execution_count": 26,
   "metadata": {},
   "outputs": [],
   "source": [
    "y=y_processing(diamonds[\"price\"])\n",
    "X_raw=cleaning_5(diamonds.drop(columns=[\"price\"]))\n",
    "scaler5 = preprocessing.StandardScaler().fit(X_raw.values)\n",
    "X=scaler5.transform(X_raw)"
   ]
  },
  {
   "cell_type": "code",
   "execution_count": 27,
   "metadata": {},
   "outputs": [
    {
     "name": "stdout",
     "output_type": "stream",
     "text": [
      "LinearRegression\n",
      "RMSE (test) = 1551.9736968689926\n",
      "Choosen one best 1551.9736968689926 1000000 True\n",
      "KNN\n",
      "Fitting 5 folds for each of 18 candidates, totalling 90 fits\n"
     ]
    },
    {
     "name": "stderr",
     "output_type": "stream",
     "text": [
      "[Parallel(n_jobs=1)]: Using backend SequentialBackend with 1 concurrent workers.\n",
      "[Parallel(n_jobs=1)]: Done  90 out of  90 | elapsed:  8.3min finished\n"
     ]
    },
    {
     "name": "stdout",
     "output_type": "stream",
     "text": [
      "RMSE (test) = 680.2852679663085\n",
      "Choosen one best 680.2852679663085 1551.9736968689926 True\n",
      "Forest\n",
      "Fitting 5 folds for each of 336 candidates, totalling 1680 fits\n"
     ]
    },
    {
     "name": "stderr",
     "output_type": "stream",
     "text": [
      "[Parallel(n_jobs=1)]: Using backend SequentialBackend with 1 concurrent workers.\n",
      "[Parallel(n_jobs=1)]: Done 1680 out of 1680 | elapsed:  7.2min finished\n"
     ]
    },
    {
     "name": "stdout",
     "output_type": "stream",
     "text": [
      "RMSE (test) = 705.3429143862282\n"
     ]
    },
    {
     "data": {
      "text/plain": [
       "KNeighborsRegressor(weights='distance')"
      ]
     },
     "execution_count": 27,
     "metadata": {},
     "output_type": "execute_result"
    }
   ],
   "source": [
    "sel_func5,rmse_5 = best_func(X,y)\n",
    "sel_func5.fit(X,y)"
   ]
  },
  {
   "cell_type": "code",
   "execution_count": 28,
   "metadata": {},
   "outputs": [
    {
     "name": "stdout",
     "output_type": "stream",
     "text": [
      "680.2852679663085\n",
      "KNeighborsRegressor(weights='distance')\n"
     ]
    }
   ],
   "source": [
    "print(rmse_5)\n",
    "print(sel_func5)"
   ]
  },
  {
   "cell_type": "code",
   "execution_count": 29,
   "metadata": {},
   "outputs": [],
   "source": [
    "diamonds_test= pd.read_csv(\"predict.csv\",index_col=\"id\")\n",
    "Xf_raw=cleaning_5(diamonds_test)\n",
    "Xf=scaler5.transform(Xf_raw.values)\n",
    "y_prediction = 10**sel_func5.predict(Xf)\n",
    "diamonds_test[\"price\"]=y_prediction\n",
    "diamonds_test[\"price\"].to_csv(\"res/grid_5_pred.csv\")"
   ]
  },
  {
   "cell_type": "code",
   "execution_count": null,
   "metadata": {},
   "outputs": [],
   "source": []
  },
  {
   "cell_type": "code",
   "execution_count": null,
   "metadata": {},
   "outputs": [],
   "source": []
  },
  {
   "cell_type": "markdown",
   "metadata": {},
   "source": [
    "6th MODEL"
   ]
  },
  {
   "cell_type": "code",
   "execution_count": 30,
   "metadata": {},
   "outputs": [
    {
     "name": "stderr",
     "output_type": "stream",
     "text": [
      "/home/ordovas/IRONHACK/mini-projects/kaggle-competition/cleaning/clean_func.py:89: SettingWithCopyWarning: \n",
      "A value is trying to be set on a copy of a slice from a DataFrame.\n",
      "Try using .loc[row_indexer,col_indexer] = value instead\n",
      "\n",
      "See the caveats in the documentation: https://pandas.pydata.org/pandas-docs/stable/user_guide/indexing.html#returning-a-view-versus-a-copy\n",
      "  diamonds[\"color\"]=diamonds[\"color\"].replace(color)\n",
      "/home/ordovas/IRONHACK/mini-projects/kaggle-competition/cleaning/clean_func.py:90: SettingWithCopyWarning: \n",
      "A value is trying to be set on a copy of a slice from a DataFrame.\n",
      "Try using .loc[row_indexer,col_indexer] = value instead\n",
      "\n",
      "See the caveats in the documentation: https://pandas.pydata.org/pandas-docs/stable/user_guide/indexing.html#returning-a-view-versus-a-copy\n",
      "  diamonds[\"cut\"]=diamonds[\"cut\"].replace(cut)\n",
      "/home/ordovas/IRONHACK/mini-projects/kaggle-competition/cleaning/clean_func.py:91: SettingWithCopyWarning: \n",
      "A value is trying to be set on a copy of a slice from a DataFrame.\n",
      "Try using .loc[row_indexer,col_indexer] = value instead\n",
      "\n",
      "See the caveats in the documentation: https://pandas.pydata.org/pandas-docs/stable/user_guide/indexing.html#returning-a-view-versus-a-copy\n",
      "  diamonds[\"clarity\"]=diamonds[\"clarity\"].replace(clarity)\n",
      "/home/ordovas/IRONHACK/mini-projects/kaggle-competition/cleaning/clean_func.py:98: SettingWithCopyWarning: \n",
      "A value is trying to be set on a copy of a slice from a DataFrame.\n",
      "Try using .loc[row_indexer,col_indexer] = value instead\n",
      "\n",
      "See the caveats in the documentation: https://pandas.pydata.org/pandas-docs/stable/user_guide/indexing.html#returning-a-view-versus-a-copy\n",
      "  diamonds[f\"{col1}*{col2}\"] = diamonds[col1]*diamonds[col2]\n"
     ]
    }
   ],
   "source": [
    "y=y_processing(diamonds[\"price\"])\n",
    "X_raw=cleaning_6(diamonds.drop(columns=[\"price\"]))\n",
    "scaler6 = preprocessing.StandardScaler().fit(X_raw.values)\n",
    "X=scaler6.transform(X_raw)"
   ]
  },
  {
   "cell_type": "code",
   "execution_count": 31,
   "metadata": {},
   "outputs": [
    {
     "name": "stderr",
     "output_type": "stream",
     "text": [
      "[Parallel(n_jobs=1)]: Using backend SequentialBackend with 1 concurrent workers.\n"
     ]
    },
    {
     "name": "stdout",
     "output_type": "stream",
     "text": [
      "LinearRegression\n",
      "RMSE (test) = 1937.121084567295\n",
      "Choosen one best 1937.121084567295 1000000 True\n",
      "KNN\n",
      "Fitting 5 folds for each of 18 candidates, totalling 90 fits\n"
     ]
    },
    {
     "name": "stderr",
     "output_type": "stream",
     "text": [
      "[Parallel(n_jobs=1)]: Done  90 out of  90 | elapsed:   54.4s finished\n",
      "[Parallel(n_jobs=1)]: Using backend SequentialBackend with 1 concurrent workers.\n"
     ]
    },
    {
     "name": "stdout",
     "output_type": "stream",
     "text": [
      "RMSE (test) = 820.450643166402\n",
      "Choosen one best 820.450643166402 1937.121084567295 True\n",
      "Forest\n",
      "Fitting 5 folds for each of 336 candidates, totalling 1680 fits\n"
     ]
    },
    {
     "name": "stderr",
     "output_type": "stream",
     "text": [
      "[Parallel(n_jobs=1)]: Done 1680 out of 1680 | elapsed:  7.4min finished\n"
     ]
    },
    {
     "name": "stdout",
     "output_type": "stream",
     "text": [
      "RMSE (test) = 673.9502776468439\n",
      "Choosen one best 673.9502776468439 820.450643166402 True\n"
     ]
    },
    {
     "data": {
      "text/plain": [
       "RandomForestRegressor(min_samples_leaf=5, min_samples_split=25, n_jobs=-1)"
      ]
     },
     "execution_count": 31,
     "metadata": {},
     "output_type": "execute_result"
    }
   ],
   "source": [
    "sel_func6,rmse_6 = best_func(X,y)\n",
    "sel_func6.fit(X,y)"
   ]
  },
  {
   "cell_type": "code",
   "execution_count": 32,
   "metadata": {},
   "outputs": [
    {
     "name": "stdout",
     "output_type": "stream",
     "text": [
      "673.9502776468439\n",
      "RandomForestRegressor(min_samples_leaf=5, min_samples_split=25, n_jobs=-1)\n"
     ]
    }
   ],
   "source": [
    "print(rmse_6)\n",
    "print(sel_func6)"
   ]
  },
  {
   "cell_type": "code",
   "execution_count": 33,
   "metadata": {},
   "outputs": [
    {
     "name": "stderr",
     "output_type": "stream",
     "text": [
      "/home/ordovas/IRONHACK/mini-projects/kaggle-competition/cleaning/clean_func.py:89: SettingWithCopyWarning: \n",
      "A value is trying to be set on a copy of a slice from a DataFrame.\n",
      "Try using .loc[row_indexer,col_indexer] = value instead\n",
      "\n",
      "See the caveats in the documentation: https://pandas.pydata.org/pandas-docs/stable/user_guide/indexing.html#returning-a-view-versus-a-copy\n",
      "  diamonds[\"color\"]=diamonds[\"color\"].replace(color)\n",
      "/home/ordovas/IRONHACK/mini-projects/kaggle-competition/cleaning/clean_func.py:90: SettingWithCopyWarning: \n",
      "A value is trying to be set on a copy of a slice from a DataFrame.\n",
      "Try using .loc[row_indexer,col_indexer] = value instead\n",
      "\n",
      "See the caveats in the documentation: https://pandas.pydata.org/pandas-docs/stable/user_guide/indexing.html#returning-a-view-versus-a-copy\n",
      "  diamonds[\"cut\"]=diamonds[\"cut\"].replace(cut)\n",
      "/home/ordovas/IRONHACK/mini-projects/kaggle-competition/cleaning/clean_func.py:91: SettingWithCopyWarning: \n",
      "A value is trying to be set on a copy of a slice from a DataFrame.\n",
      "Try using .loc[row_indexer,col_indexer] = value instead\n",
      "\n",
      "See the caveats in the documentation: https://pandas.pydata.org/pandas-docs/stable/user_guide/indexing.html#returning-a-view-versus-a-copy\n",
      "  diamonds[\"clarity\"]=diamonds[\"clarity\"].replace(clarity)\n",
      "/home/ordovas/IRONHACK/mini-projects/kaggle-competition/cleaning/clean_func.py:98: SettingWithCopyWarning: \n",
      "A value is trying to be set on a copy of a slice from a DataFrame.\n",
      "Try using .loc[row_indexer,col_indexer] = value instead\n",
      "\n",
      "See the caveats in the documentation: https://pandas.pydata.org/pandas-docs/stable/user_guide/indexing.html#returning-a-view-versus-a-copy\n",
      "  diamonds[f\"{col1}*{col2}\"] = diamonds[col1]*diamonds[col2]\n"
     ]
    }
   ],
   "source": [
    "diamonds_test= pd.read_csv(\"predict.csv\",index_col=\"id\")\n",
    "Xf_raw=cleaning_6(diamonds_test)\n",
    "Xf=scaler6.transform(Xf_raw.values)\n",
    "y_prediction = 10**sel_func6.predict(Xf)\n",
    "diamonds_test[\"price\"]=y_prediction\n",
    "diamonds_test[\"price\"].to_csv(\"res/grid_6_pred.csv\")"
   ]
  },
  {
   "cell_type": "code",
   "execution_count": null,
   "metadata": {},
   "outputs": [],
   "source": []
  },
  {
   "cell_type": "code",
   "execution_count": null,
   "metadata": {},
   "outputs": [],
   "source": []
  },
  {
   "cell_type": "markdown",
   "metadata": {},
   "source": [
    "7th MODEL"
   ]
  },
  {
   "cell_type": "code",
   "execution_count": 94,
   "metadata": {},
   "outputs": [],
   "source": [
    "from cleaning.clean_func import cleaning_7\n",
    "\n",
    "y=y_processing(diamonds[\"price\"])\n",
    "X_raw=cleaning_7(diamonds.drop(columns=[\"price\"]))\n",
    "scaler7 = preprocessing.StandardScaler().fit(X_raw.values)\n",
    "X=scaler7.transform(X_raw)"
   ]
  },
  {
   "cell_type": "code",
   "execution_count": 5,
   "metadata": {},
   "outputs": [
    {
     "name": "stdout",
     "output_type": "stream",
     "text": [
      "LinearRegression\n",
      "RMSE (test) = 5797.372723710179\n",
      "Choosen one best 5797.372723710179 1000000 True\n",
      "KNN\n",
      "Fitting 5 folds for each of 18 candidates, totalling 90 fits\n"
     ]
    },
    {
     "name": "stderr",
     "output_type": "stream",
     "text": [
      "[Parallel(n_jobs=1)]: Using backend SequentialBackend with 1 concurrent workers.\n",
      "[Parallel(n_jobs=1)]: Done  90 out of  90 | elapsed:  2.3min finished\n"
     ]
    },
    {
     "name": "stdout",
     "output_type": "stream",
     "text": [
      "RMSE (test) = 704.1593339923847\n",
      "Choosen one best 704.1593339923847 5797.372723710179 True\n",
      "Forest\n",
      "Fitting 5 folds for each of 336 candidates, totalling 1680 fits\n"
     ]
    },
    {
     "name": "stderr",
     "output_type": "stream",
     "text": [
      "[Parallel(n_jobs=1)]: Using backend SequentialBackend with 1 concurrent workers.\n",
      "[Parallel(n_jobs=1)]: Done 1680 out of 1680 | elapsed:  6.4min finished\n"
     ]
    },
    {
     "name": "stdout",
     "output_type": "stream",
     "text": [
      "RMSE (test) = 543.604606674903\n",
      "Choosen one best 543.604606674903 704.1593339923847 True\n"
     ]
    },
    {
     "data": {
      "text/plain": [
       "RandomForestRegressor(min_samples_leaf=5, min_samples_split=5, n_jobs=-1)"
      ]
     },
     "execution_count": 5,
     "metadata": {},
     "output_type": "execute_result"
    }
   ],
   "source": [
    "sel_func7,rmse_7 = best_func(X,y)\n",
    "sel_func7.fit(X,y)"
   ]
  },
  {
   "cell_type": "code",
   "execution_count": 6,
   "metadata": {},
   "outputs": [
    {
     "name": "stdout",
     "output_type": "stream",
     "text": [
      "543.604606674903\n",
      "RandomForestRegressor(min_samples_leaf=5, min_samples_split=5, n_jobs=-1)\n"
     ]
    }
   ],
   "source": [
    "print(rmse_7)\n",
    "print(sel_func7)"
   ]
  },
  {
   "cell_type": "code",
   "execution_count": 7,
   "metadata": {},
   "outputs": [],
   "source": [
    "diamonds_test= pd.read_csv(\"predict.csv\",index_col=\"id\")\n",
    "Xf_raw=cleaning_7(diamonds_test)\n",
    "Xf=scaler7.transform(Xf_raw.values)\n",
    "y_prediction = 10**sel_func7.predict(Xf)\n",
    "diamonds_test[\"price\"]=y_prediction\n",
    "diamonds_test[\"price\"].to_csv(\"res/grid_7_pred.csv\")"
   ]
  },
  {
   "cell_type": "code",
   "execution_count": null,
   "metadata": {},
   "outputs": [],
   "source": []
  },
  {
   "cell_type": "code",
   "execution_count": 49,
   "metadata": {},
   "outputs": [
    {
     "data": {
      "text/plain": [
       "[<matplotlib.lines.Line2D at 0x7fe8283f05b0>]"
      ]
     },
     "execution_count": 49,
     "metadata": {},
     "output_type": "execute_result"
    },
    {
     "data": {
      "image/png": "[encoded data removed]",
      "text/plain": [
       "<Figure size 432x288 with 1 Axes>"
      ]
     },
     "metadata": {
      "needs_background": "light"
     },
     "output_type": "display_data"
    }
   ],
   "source": [
    "plt.scatter(y,sel_func7.predict(X))\n",
    "plt.plot([2.5,4.25],[2.5,4.25],color=\"red\")"
   ]
  },
  {
   "cell_type": "code",
   "execution_count": 46,
   "metadata": {},
   "outputs": [
    {
     "data": {
      "text/plain": [
       "[<matplotlib.lines.Line2D at 0x7fe822604250>]"
      ]
     },
     "execution_count": 46,
     "metadata": {},
     "output_type": "execute_result"
    },
    {
     "data": {
      "image/png": "[encoded data removed]",
      "text/plain": [
       "<Figure size 432x288 with 1 Axes>"
      ]
     },
     "metadata": {
      "needs_background": "light"
     },
     "output_type": "display_data"
    }
   ],
   "source": [
    "plt.scatter(10**y,10**sel_func7.predict(X))\n",
    "plt.plot([0,17800],[0,17800],color=\"red\")"
   ]
  },
  {
   "cell_type": "code",
   "execution_count": 70,
   "metadata": {},
   "outputs": [
    {
     "name": "stdout",
     "output_type": "stream",
     "text": [
      "RMSE (test) = 898.3855961904379\n",
      "RMSE (test) = 219.85899545527053\n"
     ]
    }
   ],
   "source": [
    "rmse = mean_squared_error(10**y[3.8<y], 10**sel_func7.predict(X)[3.8<y], squared=False)\n",
    "print(\"RMSE (test) =\",rmse)\n",
    "rmse = mean_squared_error(10**y[y<3.8], 10**sel_func7.predict(X)[y<3.8], squared=False)\n",
    "print(\"RMSE (test) =\",rmse)"
   ]
  },
  {
   "cell_type": "code",
   "execution_count": 76,
   "metadata": {},
   "outputs": [
    {
     "name": "stdout",
     "output_type": "stream",
     "text": [
      "RMSE (test) = 1116.8115677235785\n",
      "RMSE (test) = 296.1324764743617\n"
     ]
    }
   ],
   "source": [
    "rmse = mean_squared_error(10**y[4<y], 10**sel_func7.predict(X)[4<y], squared=False)\n",
    "print(\"RMSE (test) =\",rmse)\n",
    "rmse = mean_squared_error(10**y[y<4], 10**sel_func7.predict(X)[y<4], squared=False)\n",
    "print(\"RMSE (test) =\",rmse)"
   ]
  },
  {
   "cell_type": "code",
   "execution_count": 95,
   "metadata": {},
   "outputs": [
    {
     "data": {
      "text/plain": [
       "42.44855844956533"
      ]
     },
     "execution_count": 95,
     "metadata": {},
     "output_type": "execute_result"
    }
   ],
   "source": [
    "sum((y-sel_func7.predict(X))**2)"
   ]
  },
  {
   "cell_type": "code",
   "execution_count": null,
   "metadata": {},
   "outputs": [],
   "source": []
  },
  {
   "cell_type": "code",
   "execution_count": null,
   "metadata": {},
   "outputs": [],
   "source": []
  },
  {
   "cell_type": "markdown",
   "metadata": {},
   "source": [
    "8th MODEL"
   ]
  },
  {
   "cell_type": "code",
   "execution_count": 5,
   "metadata": {},
   "outputs": [],
   "source": [
    "\n",
    "y=y_processing(diamonds[\"price\"])\n",
    "X_raw=cleaning_8(diamonds.drop(columns=[\"price\"]))\n",
    "scaler8 = preprocessing.StandardScaler().fit(X_raw.values)\n",
    "X=scaler8.transform(X_raw)"
   ]
  },
  {
   "cell_type": "code",
   "execution_count": 6,
   "metadata": {},
   "outputs": [
    {
     "name": "stdout",
     "output_type": "stream",
     "text": [
      "LinearRegression\n",
      "RMSE (test) = 1015.581112283209\n",
      "Choosen one best 1015.581112283209 1000000 True\n",
      "KNN\n",
      "Fitting 5 folds for each of 18 candidates, totalling 90 fits\n"
     ]
    },
    {
     "name": "stderr",
     "output_type": "stream",
     "text": [
      "[Parallel(n_jobs=1)]: Using backend SequentialBackend with 1 concurrent workers.\n",
      "[Parallel(n_jobs=1)]: Done  90 out of  90 | elapsed:  9.2min finished\n"
     ]
    },
    {
     "name": "stdout",
     "output_type": "stream",
     "text": [
      "RMSE (test) = 735.7571126804845\n",
      "Choosen one best 735.7571126804845 1015.581112283209 True\n",
      "Forest\n",
      "Fitting 5 folds for each of 336 candidates, totalling 1680 fits\n"
     ]
    },
    {
     "name": "stderr",
     "output_type": "stream",
     "text": [
      "[Parallel(n_jobs=1)]: Using backend SequentialBackend with 1 concurrent workers.\n",
      "[Parallel(n_jobs=1)]: Done 1680 out of 1680 | elapsed: 20.1min finished\n"
     ]
    },
    {
     "name": "stdout",
     "output_type": "stream",
     "text": [
      "RMSE (test) = 581.8298074127849\n",
      "Choosen one best 581.8298074127849 735.7571126804845 True\n"
     ]
    },
    {
     "data": {
      "text/plain": [
       "RandomForestRegressor(min_samples_leaf=5, min_samples_split=5, n_jobs=-1)"
      ]
     },
     "execution_count": 6,
     "metadata": {},
     "output_type": "execute_result"
    }
   ],
   "source": [
    "sel_func8,rmse_8 = best_func(X,y)\n",
    "sel_func8.fit(X,y)"
   ]
  },
  {
   "cell_type": "code",
   "execution_count": 7,
   "metadata": {},
   "outputs": [
    {
     "name": "stdout",
     "output_type": "stream",
     "text": [
      "581.8298074127849\n",
      "RandomForestRegressor(min_samples_leaf=5, min_samples_split=5, n_jobs=-1)\n"
     ]
    }
   ],
   "source": [
    "print(rmse_8)\n",
    "print(sel_func8)"
   ]
  },
  {
   "cell_type": "code",
   "execution_count": 8,
   "metadata": {},
   "outputs": [],
   "source": [
    "diamonds_test= pd.read_csv(\"predict.csv\",index_col=\"id\")\n",
    "Xf_raw=cleaning_8(diamonds_test)\n",
    "Xf=scaler8.transform(Xf_raw.values)\n",
    "y_prediction = 10**sel_func8.predict(Xf)\n",
    "diamonds_test[\"price\"]=y_prediction\n",
    "diamonds_test[\"price\"].to_csv(\"res/grid_8_pred.csv\")"
   ]
  },
  {
   "cell_type": "code",
   "execution_count": null,
   "metadata": {},
   "outputs": [],
   "source": []
  },
  {
   "cell_type": "code",
   "execution_count": null,
   "metadata": {},
   "outputs": [],
   "source": []
  },
  {
   "cell_type": "code",
   "execution_count": null,
   "metadata": {},
   "outputs": [],
   "source": []
  },
  {
   "cell_type": "code",
   "execution_count": null,
   "metadata": {},
   "outputs": [],
   "source": []
  },
  {
   "cell_type": "code",
   "execution_count": null,
   "metadata": {},
   "outputs": [],
   "source": []
  },
  {
   "cell_type": "markdown",
   "metadata": {},
   "source": [
    "### Testing dividing in 2 samples"
   ]
  },
  {
   "cell_type": "code",
   "execution_count": 68,
   "metadata": {},
   "outputs": [],
   "source": [
    "\n",
    "\n",
    "y=y_processing(diamonds[\"price\"])\n",
    "X_raw=cleaning_8(diamonds.drop(columns=[\"price\"]))\n",
    "scaler_2parts = preprocessing.StandardScaler().fit(X_raw.values)\n",
    "X_raw1=cleaning_8(diamonds[6.75<diamonds[\"x\"]].drop(columns=[\"price\"]))\n",
    "X_raw2=cleaning_8(diamonds[diamonds[\"x\"]<6.75].drop(columns=[\"price\"]))\n",
    "X1=scaler_2parts.transform(X_raw1)\n",
    "X2=scaler_2parts.transform(X_raw2)"
   ]
  },
  {
   "cell_type": "code",
   "execution_count": 69,
   "metadata": {},
   "outputs": [
    {
     "name": "stdout",
     "output_type": "stream",
     "text": [
      "LinearRegression\n",
      "RMSE (test) = 2.442568270133245e+26\n",
      "KNN\n",
      "Fitting 5 folds for each of 18 candidates, totalling 90 fits\n"
     ]
    },
    {
     "name": "stderr",
     "output_type": "stream",
     "text": [
      "[Parallel(n_jobs=1)]: Using backend SequentialBackend with 1 concurrent workers.\n"
     ]
    },
    {
     "name": "stdout",
     "output_type": "stream",
     "text": [
      "RMSE (test) = 1457.464515614\n",
      "Choosen one best 1457.464515614 1000000 True\n",
      "Forest\n",
      "Fitting 5 folds for each of 336 candidates, totalling 1680 fits\n"
     ]
    },
    {
     "name": "stderr",
     "output_type": "stream",
     "text": [
      "[Parallel(n_jobs=1)]: Done  90 out of  90 | elapsed:  1.0min finished\n",
      "[Parallel(n_jobs=1)]: Using backend SequentialBackend with 1 concurrent workers.\n",
      "[Parallel(n_jobs=1)]: Done 1680 out of 1680 | elapsed:  8.1min finished\n"
     ]
    },
    {
     "name": "stdout",
     "output_type": "stream",
     "text": [
      "RMSE (test) = 1130.1663877506726\n",
      "Choosen one best 1130.1663877506726 1457.464515614 True\n"
     ]
    }
   ],
   "source": [
    "sel_func_2parts_1,rmse__2parts_1 = best_func(X1,y[6.75<diamonds[\"x\"]])\n",
    "#sel_func_2parts_1.fit(X1,y[6.75<diamonds[\"x\"]])"
   ]
  },
  {
   "cell_type": "code",
   "execution_count": 70,
   "metadata": {},
   "outputs": [
    {
     "name": "stdout",
     "output_type": "stream",
     "text": [
      "LinearRegression\n",
      "RMSE (test) = 516.1122396877047\n",
      "Choosen one best 516.1122396877047 1000000 True\n",
      "KNN\n",
      "Fitting 5 folds for each of 18 candidates, totalling 90 fits\n"
     ]
    },
    {
     "name": "stderr",
     "output_type": "stream",
     "text": [
      "[Parallel(n_jobs=1)]: Using backend SequentialBackend with 1 concurrent workers.\n",
      "[Parallel(n_jobs=1)]: Done  90 out of  90 | elapsed:  6.7min finished\n"
     ]
    },
    {
     "name": "stdout",
     "output_type": "stream",
     "text": [
      "RMSE (test) = 414.97039173371763\n",
      "Choosen one best 414.97039173371763 516.1122396877047 True\n",
      "Forest\n",
      "Fitting 5 folds for each of 336 candidates, totalling 1680 fits\n"
     ]
    },
    {
     "name": "stderr",
     "output_type": "stream",
     "text": [
      "[Parallel(n_jobs=1)]: Using backend SequentialBackend with 1 concurrent workers.\n",
      "[Parallel(n_jobs=1)]: Done 1680 out of 1680 | elapsed: 15.8min finished\n"
     ]
    },
    {
     "name": "stdout",
     "output_type": "stream",
     "text": [
      "RMSE (test) = 322.39832060242776\n",
      "Choosen one best 322.39832060242776 414.97039173371763 True\n"
     ]
    }
   ],
   "source": [
    "sel_func_2parts_2,rmse__2parts_2 = best_func(X2,y[diamonds[\"x\"]<6.75])\n",
    "#sel_func_2parts_2.fit(X2,y[diamonds[\"x\"]<6.75])"
   ]
  },
  {
   "cell_type": "code",
   "execution_count": 71,
   "metadata": {},
   "outputs": [
    {
     "name": "stdout",
     "output_type": "stream",
     "text": [
      "1130.1663877506726\n",
      "RandomForestRegressor(max_features='log2', min_samples_leaf=5,\n",
      "                      min_samples_split=5, n_jobs=-1)\n",
      "322.39832060242776\n",
      "RandomForestRegressor(min_samples_leaf=5, min_samples_split=5, n_jobs=-1)\n",
      "569.4520991194843\n"
     ]
    }
   ],
   "source": [
    "print(rmse__2parts_1,)\n",
    "print(sel_func_2parts_1)\n",
    "print(rmse__2parts_2)\n",
    "print(sel_func_2parts_2)\n",
    "print(np.sqrt(  (rmse__2parts_1*rmse__2parts_1*len(y[6.75<diamonds[\"x\"]])/len(y))\n",
    "      +(rmse__2parts_2*rmse__2parts_2*len(y[diamonds[\"x\"]<6.75])/len(y)) )  )"
   ]
  },
  {
   "cell_type": "code",
   "execution_count": 72,
   "metadata": {},
   "outputs": [
    {
     "data": {
      "text/plain": [
       "575.9261994985208"
      ]
     },
     "execution_count": 72,
     "metadata": {},
     "output_type": "execute_result"
    }
   ],
   "source": [
    "331690.98726881**0.5"
   ]
  },
  {
   "cell_type": "code",
   "execution_count": null,
   "metadata": {},
   "outputs": [],
   "source": []
  },
  {
   "cell_type": "code",
   "execution_count": null,
   "metadata": {},
   "outputs": [],
   "source": []
  },
  {
   "cell_type": "code",
   "execution_count": null,
   "metadata": {},
   "outputs": [],
   "source": []
  },
  {
   "cell_type": "code",
   "execution_count": null,
   "metadata": {},
   "outputs": [],
   "source": []
  },
  {
   "cell_type": "code",
   "execution_count": null,
   "metadata": {},
   "outputs": [],
   "source": []
  },
  {
   "cell_type": "code",
   "execution_count": 73,
   "metadata": {},
   "outputs": [
    {
     "name": "stdout",
     "output_type": "stream",
     "text": [
      "RMSE (test) = 467.73047327254767\n"
     ]
    }
   ],
   "source": [
    "yp=y.copy()\n",
    "yp[6.75<diamonds[\"x\"]]=sel_func_2parts_1.predict(X1)\n",
    "yp[diamonds[\"x\"]<6.75]=sel_func_2parts_2.predict(X2)\n",
    "rmse = mean_squared_error(10**y, 10**yp, squared=False)\n",
    "print(\"RMSE (test) =\",rmse)"
   ]
  },
  {
   "cell_type": "code",
   "execution_count": 74,
   "metadata": {},
   "outputs": [
    {
     "data": {
      "text/plain": [
       "[<matplotlib.lines.Line2D at 0x7fc7467cde50>]"
      ]
     },
     "execution_count": 74,
     "metadata": {},
     "output_type": "execute_result"
    },
    {
     "data": {
      "image/png": "[encoded data removed]",
      "text/plain": [
       "<Figure size 432x288 with 1 Axes>"
      ]
     },
     "metadata": {
      "needs_background": "light"
     },
     "output_type": "display_data"
    }
   ],
   "source": [
    "plt.scatter(y,yp)\n",
    "plt.plot([2.5,4.25],[2.5,4.25],color=\"red\")"
   ]
  },
  {
   "cell_type": "code",
   "execution_count": 75,
   "metadata": {},
   "outputs": [
    {
     "data": {
      "text/plain": [
       "[<matplotlib.lines.Line2D at 0x7fc746846580>]"
      ]
     },
     "execution_count": 75,
     "metadata": {},
     "output_type": "execute_result"
    },
    {
     "data": {
      "image/png": "[encoded data removed]",
      "text/plain": [
       "<Figure size 432x288 with 1 Axes>"
      ]
     },
     "metadata": {
      "needs_background": "light"
     },
     "output_type": "display_data"
    }
   ],
   "source": [
    "#plt.scatter(diamonds[\"x\"],np.log10(diamonds[\"price\"]))\n",
    "plt.scatter(10**y,10**yp)\n",
    "plt.plot([0,17800],[0,17800],color=\"red\")"
   ]
  },
  {
   "cell_type": "code",
   "execution_count": 76,
   "metadata": {},
   "outputs": [
    {
     "name": "stdout",
     "output_type": "stream",
     "text": [
      "(7605, 10)\n",
      "(32758, 10)\n"
     ]
    },
    {
     "data": {
      "text/plain": [
       "42.89810697561005"
      ]
     },
     "execution_count": 76,
     "metadata": {},
     "output_type": "execute_result"
    }
   ],
   "source": [
    "print(diamonds[6.75<diamonds[\"x\"]].shape)\n",
    "print(diamonds[diamonds[\"x\"]<6.75].shape)\n",
    "sum((y-yp)**2)"
   ]
  },
  {
   "cell_type": "code",
   "execution_count": 77,
   "metadata": {},
   "outputs": [
    {
     "name": "stderr",
     "output_type": "stream",
     "text": [
      "<ipython-input-77-9edb86a9bee0>:11: SettingWithCopyWarning: \n",
      "A value is trying to be set on a copy of a slice from a DataFrame\n",
      "\n",
      "See the caveats in the documentation: https://pandas.pydata.org/pandas-docs/stable/user_guide/indexing.html#returning-a-view-versus-a-copy\n",
      "  y_prediction[6.75<diamonds_test[\"x\"]]= 10**sel_func_2parts_1.predict(X1p)\n",
      "<ipython-input-77-9edb86a9bee0>:12: SettingWithCopyWarning: \n",
      "A value is trying to be set on a copy of a slice from a DataFrame\n",
      "\n",
      "See the caveats in the documentation: https://pandas.pydata.org/pandas-docs/stable/user_guide/indexing.html#returning-a-view-versus-a-copy\n",
      "  y_prediction[diamonds_test[\"x\"]<6.75]= 10**sel_func_2parts_2.predict(X2p)\n"
     ]
    }
   ],
   "source": [
    "diamonds_test= pd.read_csv(\"predict.csv\",index_col=\"id\")\n",
    "X_raw1p=cleaning_8(diamonds_test[6.75<diamonds_test[\"x\"]])\n",
    "X_raw2p=cleaning_8(diamonds_test[diamonds_test[\"x\"]<6.75])\n",
    "X1p=scaler_2parts.transform(X_raw1p)\n",
    "X2p=scaler_2parts.transform(X_raw2p)\n",
    "\n",
    "yp[6.75<diamonds[\"x\"]]=sel_func_2parts_1.predict(X1)\n",
    "yp[diamonds[\"x\"]<6.75]=sel_func_2parts_2.predict(X2)\n",
    "\n",
    "y_prediction = diamonds_test[\"x\"]\n",
    "y_prediction[6.75<diamonds_test[\"x\"]]= 10**sel_func_2parts_1.predict(X1p)\n",
    "y_prediction[diamonds_test[\"x\"]<6.75]= 10**sel_func_2parts_2.predict(X2p)\n",
    "\n",
    "diamonds_test[\"price\"]=y_prediction\n",
    "diamonds_test[\"price\"].to_csv(\"res/grid_2part_pred2.csv\")"
   ]
  },
  {
   "cell_type": "code",
   "execution_count": 78,
   "metadata": {},
   "outputs": [
    {
     "data": {
      "text/plain": [
       "id\n",
       "0        1035.622829\n",
       "1        6686.665156\n",
       "2         752.727315\n",
       "3        1827.579841\n",
       "4         953.213128\n",
       "            ...     \n",
       "13480     415.928165\n",
       "13481    4335.033166\n",
       "13482     907.950273\n",
       "13483     709.627372\n",
       "13484    4553.955654\n",
       "Name: price, Length: 13485, dtype: float64"
      ]
     },
     "execution_count": 78,
     "metadata": {},
     "output_type": "execute_result"
    }
   ],
   "source": [
    "diamonds_test[\"price\"]"
   ]
  },
  {
   "cell_type": "code",
   "execution_count": null,
   "metadata": {},
   "outputs": [],
   "source": []
  },
  {
   "cell_type": "code",
   "execution_count": null,
   "metadata": {},
   "outputs": [],
   "source": []
  },
  {
   "cell_type": "code",
   "execution_count": null,
   "metadata": {},
   "outputs": [],
   "source": []
  }
 ],
 "metadata": {
  "kernelspec": {
   "display_name": "Python 3",
   "language": "python",
   "name": "python3"
  },
  "language_info": {
   "codemirror_mode": {
    "name": "ipython",
    "version": 3
   },
   "file_extension": ".py",
   "mimetype": "text/x-python",
   "name": "python",
   "nbconvert_exporter": "python",
   "pygments_lexer": "ipython3",
   "version": "3.8.3"
  }
 },
 "nbformat": 4,
 "nbformat_minor": 4
}
